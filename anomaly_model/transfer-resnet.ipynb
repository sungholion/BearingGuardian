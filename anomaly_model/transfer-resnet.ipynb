{
 "cells": [
  {
   "cell_type": "code",
   "execution_count": 20,
   "id": "56d0593a",
   "metadata": {},
   "outputs": [
    {
     "name": "stdout",
     "output_type": "stream",
     "text": [
      "--- GPU 사용 가능 여부 확인 ---\n",
      "사용 가능한 GPU: 1개\n",
      "TensorFlow 버전: 2.16.2\n",
      "TensorFlow가 GPU를 사용하는지 여부: True\n",
      "------------------------------\n",
      "\n",
      "--- 3. 데이터 로드 및 전처리 시작 ---\n",
      "Found 6144 images belonging to 2 classes.\n",
      "Found 1536 images belonging to 2 classes.\n",
      "Found 5184 images belonging to 3 classes.\n",
      "Found 1296 images belonging to 3 classes.\n",
      "\n",
      "--- 데이터 로드 및 전처리 완료 ---\n",
      "------------------------------\n",
      "\n",
      "--- 4. 전이 학습 모델 정의 및 컴파일 시작 ---\n",
      "\n",
      "--- Stage 1 전이 학습 모델 정의 및 컴파일 ---\n",
      "Downloading data from https://storage.googleapis.com/tensorflow/keras-applications/resnet/resnet50v2_weights_tf_dim_ordering_tf_kernels_notop.h5\n",
      "\u001b[1m94668760/94668760\u001b[0m \u001b[32m━━━━━━━━━━━━━━━━━━━━\u001b[0m\u001b[37m\u001b[0m \u001b[1m11s\u001b[0m 0us/step\n"
     ]
    },
    {
     "data": {
      "text/html": [
       "<pre style=\"white-space:pre;overflow-x:auto;line-height:normal;font-family:Menlo,'DejaVu Sans Mono',consolas,'Courier New',monospace\"><span style=\"font-weight: bold\">Model: \"functional\"</span>\n",
       "</pre>\n"
      ],
      "text/plain": [
       "\u001b[1mModel: \"functional\"\u001b[0m\n"
      ]
     },
     "metadata": {},
     "output_type": "display_data"
    },
    {
     "data": {
      "text/html": [
       "<pre style=\"white-space:pre;overflow-x:auto;line-height:normal;font-family:Menlo,'DejaVu Sans Mono',consolas,'Courier New',monospace\">┏━━━━━━━━━━━━━━━━━━━━━━━━━━━━━━━━━┳━━━━━━━━━━━━━━━━━━━━━━━━┳━━━━━━━━━━━━━━━┓\n",
       "┃<span style=\"font-weight: bold\"> Layer (type)                    </span>┃<span style=\"font-weight: bold\"> Output Shape           </span>┃<span style=\"font-weight: bold\">       Param # </span>┃\n",
       "┡━━━━━━━━━━━━━━━━━━━━━━━━━━━━━━━━━╇━━━━━━━━━━━━━━━━━━━━━━━━╇━━━━━━━━━━━━━━━┩\n",
       "│ input_layer_1 (<span style=\"color: #0087ff; text-decoration-color: #0087ff\">InputLayer</span>)      │ (<span style=\"color: #00d7ff; text-decoration-color: #00d7ff\">None</span>, <span style=\"color: #00af00; text-decoration-color: #00af00\">128</span>, <span style=\"color: #00af00; text-decoration-color: #00af00\">256</span>, <span style=\"color: #00af00; text-decoration-color: #00af00\">1</span>)    │             <span style=\"color: #00af00; text-decoration-color: #00af00\">0</span> │\n",
       "├─────────────────────────────────┼────────────────────────┼───────────────┤\n",
       "│ grayscale_to_rgb_conversion     │ (<span style=\"color: #00d7ff; text-decoration-color: #00d7ff\">None</span>, <span style=\"color: #00af00; text-decoration-color: #00af00\">128</span>, <span style=\"color: #00af00; text-decoration-color: #00af00\">256</span>, <span style=\"color: #00af00; text-decoration-color: #00af00\">3</span>)    │             <span style=\"color: #00af00; text-decoration-color: #00af00\">6</span> │\n",
       "│ (<span style=\"color: #0087ff; text-decoration-color: #0087ff\">Conv2D</span>)                        │                        │               │\n",
       "├─────────────────────────────────┼────────────────────────┼───────────────┤\n",
       "│ resnet50v2 (<span style=\"color: #0087ff; text-decoration-color: #0087ff\">Functional</span>)         │ (<span style=\"color: #00d7ff; text-decoration-color: #00d7ff\">None</span>, <span style=\"color: #00af00; text-decoration-color: #00af00\">4</span>, <span style=\"color: #00af00; text-decoration-color: #00af00\">8</span>, <span style=\"color: #00af00; text-decoration-color: #00af00\">2048</span>)     │    <span style=\"color: #00af00; text-decoration-color: #00af00\">23,564,800</span> │\n",
       "├─────────────────────────────────┼────────────────────────┼───────────────┤\n",
       "│ flatten (<span style=\"color: #0087ff; text-decoration-color: #0087ff\">Flatten</span>)               │ (<span style=\"color: #00d7ff; text-decoration-color: #00d7ff\">None</span>, <span style=\"color: #00af00; text-decoration-color: #00af00\">65536</span>)          │             <span style=\"color: #00af00; text-decoration-color: #00af00\">0</span> │\n",
       "├─────────────────────────────────┼────────────────────────┼───────────────┤\n",
       "│ reshape (<span style=\"color: #0087ff; text-decoration-color: #0087ff\">Reshape</span>)               │ (<span style=\"color: #00d7ff; text-decoration-color: #00d7ff\">None</span>, <span style=\"color: #00af00; text-decoration-color: #00af00\">1</span>, <span style=\"color: #00af00; text-decoration-color: #00af00\">65536</span>)       │             <span style=\"color: #00af00; text-decoration-color: #00af00\">0</span> │\n",
       "├─────────────────────────────────┼────────────────────────┼───────────────┤\n",
       "│ lstm (<span style=\"color: #0087ff; text-decoration-color: #0087ff\">LSTM</span>)                     │ (<span style=\"color: #00d7ff; text-decoration-color: #00d7ff\">None</span>, <span style=\"color: #00af00; text-decoration-color: #00af00\">128</span>)            │    <span style=\"color: #00af00; text-decoration-color: #00af00\">33,620,480</span> │\n",
       "├─────────────────────────────────┼────────────────────────┼───────────────┤\n",
       "│ dropout (<span style=\"color: #0087ff; text-decoration-color: #0087ff\">Dropout</span>)               │ (<span style=\"color: #00d7ff; text-decoration-color: #00d7ff\">None</span>, <span style=\"color: #00af00; text-decoration-color: #00af00\">128</span>)            │             <span style=\"color: #00af00; text-decoration-color: #00af00\">0</span> │\n",
       "├─────────────────────────────────┼────────────────────────┼───────────────┤\n",
       "│ output_binary (<span style=\"color: #0087ff; text-decoration-color: #0087ff\">Dense</span>)           │ (<span style=\"color: #00d7ff; text-decoration-color: #00d7ff\">None</span>, <span style=\"color: #00af00; text-decoration-color: #00af00\">1</span>)              │           <span style=\"color: #00af00; text-decoration-color: #00af00\">129</span> │\n",
       "└─────────────────────────────────┴────────────────────────┴───────────────┘\n",
       "</pre>\n"
      ],
      "text/plain": [
       "┏━━━━━━━━━━━━━━━━━━━━━━━━━━━━━━━━━┳━━━━━━━━━━━━━━━━━━━━━━━━┳━━━━━━━━━━━━━━━┓\n",
       "┃\u001b[1m \u001b[0m\u001b[1mLayer (type)                   \u001b[0m\u001b[1m \u001b[0m┃\u001b[1m \u001b[0m\u001b[1mOutput Shape          \u001b[0m\u001b[1m \u001b[0m┃\u001b[1m \u001b[0m\u001b[1m      Param #\u001b[0m\u001b[1m \u001b[0m┃\n",
       "┡━━━━━━━━━━━━━━━━━━━━━━━━━━━━━━━━━╇━━━━━━━━━━━━━━━━━━━━━━━━╇━━━━━━━━━━━━━━━┩\n",
       "│ input_layer_1 (\u001b[38;5;33mInputLayer\u001b[0m)      │ (\u001b[38;5;45mNone\u001b[0m, \u001b[38;5;34m128\u001b[0m, \u001b[38;5;34m256\u001b[0m, \u001b[38;5;34m1\u001b[0m)    │             \u001b[38;5;34m0\u001b[0m │\n",
       "├─────────────────────────────────┼────────────────────────┼───────────────┤\n",
       "│ grayscale_to_rgb_conversion     │ (\u001b[38;5;45mNone\u001b[0m, \u001b[38;5;34m128\u001b[0m, \u001b[38;5;34m256\u001b[0m, \u001b[38;5;34m3\u001b[0m)    │             \u001b[38;5;34m6\u001b[0m │\n",
       "│ (\u001b[38;5;33mConv2D\u001b[0m)                        │                        │               │\n",
       "├─────────────────────────────────┼────────────────────────┼───────────────┤\n",
       "│ resnet50v2 (\u001b[38;5;33mFunctional\u001b[0m)         │ (\u001b[38;5;45mNone\u001b[0m, \u001b[38;5;34m4\u001b[0m, \u001b[38;5;34m8\u001b[0m, \u001b[38;5;34m2048\u001b[0m)     │    \u001b[38;5;34m23,564,800\u001b[0m │\n",
       "├─────────────────────────────────┼────────────────────────┼───────────────┤\n",
       "│ flatten (\u001b[38;5;33mFlatten\u001b[0m)               │ (\u001b[38;5;45mNone\u001b[0m, \u001b[38;5;34m65536\u001b[0m)          │             \u001b[38;5;34m0\u001b[0m │\n",
       "├─────────────────────────────────┼────────────────────────┼───────────────┤\n",
       "│ reshape (\u001b[38;5;33mReshape\u001b[0m)               │ (\u001b[38;5;45mNone\u001b[0m, \u001b[38;5;34m1\u001b[0m, \u001b[38;5;34m65536\u001b[0m)       │             \u001b[38;5;34m0\u001b[0m │\n",
       "├─────────────────────────────────┼────────────────────────┼───────────────┤\n",
       "│ lstm (\u001b[38;5;33mLSTM\u001b[0m)                     │ (\u001b[38;5;45mNone\u001b[0m, \u001b[38;5;34m128\u001b[0m)            │    \u001b[38;5;34m33,620,480\u001b[0m │\n",
       "├─────────────────────────────────┼────────────────────────┼───────────────┤\n",
       "│ dropout (\u001b[38;5;33mDropout\u001b[0m)               │ (\u001b[38;5;45mNone\u001b[0m, \u001b[38;5;34m128\u001b[0m)            │             \u001b[38;5;34m0\u001b[0m │\n",
       "├─────────────────────────────────┼────────────────────────┼───────────────┤\n",
       "│ output_binary (\u001b[38;5;33mDense\u001b[0m)           │ (\u001b[38;5;45mNone\u001b[0m, \u001b[38;5;34m1\u001b[0m)              │           \u001b[38;5;34m129\u001b[0m │\n",
       "└─────────────────────────────────┴────────────────────────┴───────────────┘\n"
      ]
     },
     "metadata": {},
     "output_type": "display_data"
    },
    {
     "data": {
      "text/html": [
       "<pre style=\"white-space:pre;overflow-x:auto;line-height:normal;font-family:Menlo,'DejaVu Sans Mono',consolas,'Courier New',monospace\"><span style=\"font-weight: bold\"> Total params: </span><span style=\"color: #00af00; text-decoration-color: #00af00\">57,185,415</span> (218.15 MB)\n",
       "</pre>\n"
      ],
      "text/plain": [
       "\u001b[1m Total params: \u001b[0m\u001b[38;5;34m57,185,415\u001b[0m (218.15 MB)\n"
      ]
     },
     "metadata": {},
     "output_type": "display_data"
    },
    {
     "data": {
      "text/html": [
       "<pre style=\"white-space:pre;overflow-x:auto;line-height:normal;font-family:Menlo,'DejaVu Sans Mono',consolas,'Courier New',monospace\"><span style=\"font-weight: bold\"> Trainable params: </span><span style=\"color: #00af00; text-decoration-color: #00af00\">33,620,615</span> (128.25 MB)\n",
       "</pre>\n"
      ],
      "text/plain": [
       "\u001b[1m Trainable params: \u001b[0m\u001b[38;5;34m33,620,615\u001b[0m (128.25 MB)\n"
      ]
     },
     "metadata": {},
     "output_type": "display_data"
    },
    {
     "data": {
      "text/html": [
       "<pre style=\"white-space:pre;overflow-x:auto;line-height:normal;font-family:Menlo,'DejaVu Sans Mono',consolas,'Courier New',monospace\"><span style=\"font-weight: bold\"> Non-trainable params: </span><span style=\"color: #00af00; text-decoration-color: #00af00\">23,564,800</span> (89.89 MB)\n",
       "</pre>\n"
      ],
      "text/plain": [
       "\u001b[1m Non-trainable params: \u001b[0m\u001b[38;5;34m23,564,800\u001b[0m (89.89 MB)\n"
      ]
     },
     "metadata": {},
     "output_type": "display_data"
    },
    {
     "name": "stdout",
     "output_type": "stream",
     "text": [
      "\n",
      "--- Stage 2 전이 학습 모델 정의 및 컴파일 ---\n"
     ]
    },
    {
     "data": {
      "text/html": [
       "<pre style=\"white-space:pre;overflow-x:auto;line-height:normal;font-family:Menlo,'DejaVu Sans Mono',consolas,'Courier New',monospace\"><span style=\"font-weight: bold\">Model: \"functional_1\"</span>\n",
       "</pre>\n"
      ],
      "text/plain": [
       "\u001b[1mModel: \"functional_1\"\u001b[0m\n"
      ]
     },
     "metadata": {},
     "output_type": "display_data"
    },
    {
     "data": {
      "text/html": [
       "<pre style=\"white-space:pre;overflow-x:auto;line-height:normal;font-family:Menlo,'DejaVu Sans Mono',consolas,'Courier New',monospace\">┏━━━━━━━━━━━━━━━━━━━━━━━━━━━━━━━━━┳━━━━━━━━━━━━━━━━━━━━━━━━┳━━━━━━━━━━━━━━━┓\n",
       "┃<span style=\"font-weight: bold\"> Layer (type)                    </span>┃<span style=\"font-weight: bold\"> Output Shape           </span>┃<span style=\"font-weight: bold\">       Param # </span>┃\n",
       "┡━━━━━━━━━━━━━━━━━━━━━━━━━━━━━━━━━╇━━━━━━━━━━━━━━━━━━━━━━━━╇━━━━━━━━━━━━━━━┩\n",
       "│ input_layer_3 (<span style=\"color: #0087ff; text-decoration-color: #0087ff\">InputLayer</span>)      │ (<span style=\"color: #00d7ff; text-decoration-color: #00d7ff\">None</span>, <span style=\"color: #00af00; text-decoration-color: #00af00\">128</span>, <span style=\"color: #00af00; text-decoration-color: #00af00\">256</span>, <span style=\"color: #00af00; text-decoration-color: #00af00\">1</span>)    │             <span style=\"color: #00af00; text-decoration-color: #00af00\">0</span> │\n",
       "├─────────────────────────────────┼────────────────────────┼───────────────┤\n",
       "│ grayscale_to_rgb_conversion     │ (<span style=\"color: #00d7ff; text-decoration-color: #00d7ff\">None</span>, <span style=\"color: #00af00; text-decoration-color: #00af00\">128</span>, <span style=\"color: #00af00; text-decoration-color: #00af00\">256</span>, <span style=\"color: #00af00; text-decoration-color: #00af00\">3</span>)    │             <span style=\"color: #00af00; text-decoration-color: #00af00\">6</span> │\n",
       "│ (<span style=\"color: #0087ff; text-decoration-color: #0087ff\">Conv2D</span>)                        │                        │               │\n",
       "├─────────────────────────────────┼────────────────────────┼───────────────┤\n",
       "│ resnet50v2 (<span style=\"color: #0087ff; text-decoration-color: #0087ff\">Functional</span>)         │ (<span style=\"color: #00d7ff; text-decoration-color: #00d7ff\">None</span>, <span style=\"color: #00af00; text-decoration-color: #00af00\">4</span>, <span style=\"color: #00af00; text-decoration-color: #00af00\">8</span>, <span style=\"color: #00af00; text-decoration-color: #00af00\">2048</span>)     │    <span style=\"color: #00af00; text-decoration-color: #00af00\">23,564,800</span> │\n",
       "├─────────────────────────────────┼────────────────────────┼───────────────┤\n",
       "│ flatten_1 (<span style=\"color: #0087ff; text-decoration-color: #0087ff\">Flatten</span>)             │ (<span style=\"color: #00d7ff; text-decoration-color: #00d7ff\">None</span>, <span style=\"color: #00af00; text-decoration-color: #00af00\">65536</span>)          │             <span style=\"color: #00af00; text-decoration-color: #00af00\">0</span> │\n",
       "├─────────────────────────────────┼────────────────────────┼───────────────┤\n",
       "│ reshape_1 (<span style=\"color: #0087ff; text-decoration-color: #0087ff\">Reshape</span>)             │ (<span style=\"color: #00d7ff; text-decoration-color: #00d7ff\">None</span>, <span style=\"color: #00af00; text-decoration-color: #00af00\">1</span>, <span style=\"color: #00af00; text-decoration-color: #00af00\">65536</span>)       │             <span style=\"color: #00af00; text-decoration-color: #00af00\">0</span> │\n",
       "├─────────────────────────────────┼────────────────────────┼───────────────┤\n",
       "│ lstm_1 (<span style=\"color: #0087ff; text-decoration-color: #0087ff\">LSTM</span>)                   │ (<span style=\"color: #00d7ff; text-decoration-color: #00d7ff\">None</span>, <span style=\"color: #00af00; text-decoration-color: #00af00\">128</span>)            │    <span style=\"color: #00af00; text-decoration-color: #00af00\">33,620,480</span> │\n",
       "├─────────────────────────────────┼────────────────────────┼───────────────┤\n",
       "│ dropout_1 (<span style=\"color: #0087ff; text-decoration-color: #0087ff\">Dropout</span>)             │ (<span style=\"color: #00d7ff; text-decoration-color: #00d7ff\">None</span>, <span style=\"color: #00af00; text-decoration-color: #00af00\">128</span>)            │             <span style=\"color: #00af00; text-decoration-color: #00af00\">0</span> │\n",
       "├─────────────────────────────────┼────────────────────────┼───────────────┤\n",
       "│ output_categorical (<span style=\"color: #0087ff; text-decoration-color: #0087ff\">Dense</span>)      │ (<span style=\"color: #00d7ff; text-decoration-color: #00d7ff\">None</span>, <span style=\"color: #00af00; text-decoration-color: #00af00\">3</span>)              │           <span style=\"color: #00af00; text-decoration-color: #00af00\">387</span> │\n",
       "└─────────────────────────────────┴────────────────────────┴───────────────┘\n",
       "</pre>\n"
      ],
      "text/plain": [
       "┏━━━━━━━━━━━━━━━━━━━━━━━━━━━━━━━━━┳━━━━━━━━━━━━━━━━━━━━━━━━┳━━━━━━━━━━━━━━━┓\n",
       "┃\u001b[1m \u001b[0m\u001b[1mLayer (type)                   \u001b[0m\u001b[1m \u001b[0m┃\u001b[1m \u001b[0m\u001b[1mOutput Shape          \u001b[0m\u001b[1m \u001b[0m┃\u001b[1m \u001b[0m\u001b[1m      Param #\u001b[0m\u001b[1m \u001b[0m┃\n",
       "┡━━━━━━━━━━━━━━━━━━━━━━━━━━━━━━━━━╇━━━━━━━━━━━━━━━━━━━━━━━━╇━━━━━━━━━━━━━━━┩\n",
       "│ input_layer_3 (\u001b[38;5;33mInputLayer\u001b[0m)      │ (\u001b[38;5;45mNone\u001b[0m, \u001b[38;5;34m128\u001b[0m, \u001b[38;5;34m256\u001b[0m, \u001b[38;5;34m1\u001b[0m)    │             \u001b[38;5;34m0\u001b[0m │\n",
       "├─────────────────────────────────┼────────────────────────┼───────────────┤\n",
       "│ grayscale_to_rgb_conversion     │ (\u001b[38;5;45mNone\u001b[0m, \u001b[38;5;34m128\u001b[0m, \u001b[38;5;34m256\u001b[0m, \u001b[38;5;34m3\u001b[0m)    │             \u001b[38;5;34m6\u001b[0m │\n",
       "│ (\u001b[38;5;33mConv2D\u001b[0m)                        │                        │               │\n",
       "├─────────────────────────────────┼────────────────────────┼───────────────┤\n",
       "│ resnet50v2 (\u001b[38;5;33mFunctional\u001b[0m)         │ (\u001b[38;5;45mNone\u001b[0m, \u001b[38;5;34m4\u001b[0m, \u001b[38;5;34m8\u001b[0m, \u001b[38;5;34m2048\u001b[0m)     │    \u001b[38;5;34m23,564,800\u001b[0m │\n",
       "├─────────────────────────────────┼────────────────────────┼───────────────┤\n",
       "│ flatten_1 (\u001b[38;5;33mFlatten\u001b[0m)             │ (\u001b[38;5;45mNone\u001b[0m, \u001b[38;5;34m65536\u001b[0m)          │             \u001b[38;5;34m0\u001b[0m │\n",
       "├─────────────────────────────────┼────────────────────────┼───────────────┤\n",
       "│ reshape_1 (\u001b[38;5;33mReshape\u001b[0m)             │ (\u001b[38;5;45mNone\u001b[0m, \u001b[38;5;34m1\u001b[0m, \u001b[38;5;34m65536\u001b[0m)       │             \u001b[38;5;34m0\u001b[0m │\n",
       "├─────────────────────────────────┼────────────────────────┼───────────────┤\n",
       "│ lstm_1 (\u001b[38;5;33mLSTM\u001b[0m)                   │ (\u001b[38;5;45mNone\u001b[0m, \u001b[38;5;34m128\u001b[0m)            │    \u001b[38;5;34m33,620,480\u001b[0m │\n",
       "├─────────────────────────────────┼────────────────────────┼───────────────┤\n",
       "│ dropout_1 (\u001b[38;5;33mDropout\u001b[0m)             │ (\u001b[38;5;45mNone\u001b[0m, \u001b[38;5;34m128\u001b[0m)            │             \u001b[38;5;34m0\u001b[0m │\n",
       "├─────────────────────────────────┼────────────────────────┼───────────────┤\n",
       "│ output_categorical (\u001b[38;5;33mDense\u001b[0m)      │ (\u001b[38;5;45mNone\u001b[0m, \u001b[38;5;34m3\u001b[0m)              │           \u001b[38;5;34m387\u001b[0m │\n",
       "└─────────────────────────────────┴────────────────────────┴───────────────┘\n"
      ]
     },
     "metadata": {},
     "output_type": "display_data"
    },
    {
     "data": {
      "text/html": [
       "<pre style=\"white-space:pre;overflow-x:auto;line-height:normal;font-family:Menlo,'DejaVu Sans Mono',consolas,'Courier New',monospace\"><span style=\"font-weight: bold\"> Total params: </span><span style=\"color: #00af00; text-decoration-color: #00af00\">57,185,673</span> (218.15 MB)\n",
       "</pre>\n"
      ],
      "text/plain": [
       "\u001b[1m Total params: \u001b[0m\u001b[38;5;34m57,185,673\u001b[0m (218.15 MB)\n"
      ]
     },
     "metadata": {},
     "output_type": "display_data"
    },
    {
     "data": {
      "text/html": [
       "<pre style=\"white-space:pre;overflow-x:auto;line-height:normal;font-family:Menlo,'DejaVu Sans Mono',consolas,'Courier New',monospace\"><span style=\"font-weight: bold\"> Trainable params: </span><span style=\"color: #00af00; text-decoration-color: #00af00\">33,620,873</span> (128.25 MB)\n",
       "</pre>\n"
      ],
      "text/plain": [
       "\u001b[1m Trainable params: \u001b[0m\u001b[38;5;34m33,620,873\u001b[0m (128.25 MB)\n"
      ]
     },
     "metadata": {},
     "output_type": "display_data"
    },
    {
     "data": {
      "text/html": [
       "<pre style=\"white-space:pre;overflow-x:auto;line-height:normal;font-family:Menlo,'DejaVu Sans Mono',consolas,'Courier New',monospace\"><span style=\"font-weight: bold\"> Non-trainable params: </span><span style=\"color: #00af00; text-decoration-color: #00af00\">23,564,800</span> (89.89 MB)\n",
       "</pre>\n"
      ],
      "text/plain": [
       "\u001b[1m Non-trainable params: \u001b[0m\u001b[38;5;34m23,564,800\u001b[0m (89.89 MB)\n"
      ]
     },
     "metadata": {},
     "output_type": "display_data"
    },
    {
     "name": "stdout",
     "output_type": "stream",
     "text": [
      "\n",
      "--- 전이 학습 모델 정의 및 컴파일 완료 ---\n",
      "------------------------------\n",
      "\n",
      "--- 5. 모델 학습 시작 ---\n",
      "\n",
      "--- Stage 1 클래스 가중치 ---\n",
      "{0: 0.8687782805429864, 1: 1.177914110429448}\n",
      "\n",
      "--- Stage 2 클래스 가중치 ---\n",
      "{0: 1.0, 1: 1.0, 2: 1.0}\n",
      "\n",
      "--- Stage 1 전이 학습 모델 학습 시작 ---\n"
     ]
    },
    {
     "name": "stderr",
     "output_type": "stream",
     "text": [
      "/Users/pjh_air/miniconda3/envs/bearing_env/lib/python3.10/site-packages/keras/src/trainers/data_adapters/py_dataset_adapter.py:121: UserWarning: Your `PyDataset` class should call `super().__init__(**kwargs)` in its constructor. `**kwargs` can include `workers`, `use_multiprocessing`, `max_queue_size`. Do not pass these arguments to `fit()`, as they will be ignored.\n",
      "  self._warn_if_super_not_called()\n"
     ]
    },
    {
     "name": "stdout",
     "output_type": "stream",
     "text": [
      "Epoch 1/50\n"
     ]
    },
    {
     "name": "stderr",
     "output_type": "stream",
     "text": [
      "2025-07-17 01:24:55.435496: I tensorflow/core/grappler/optimizers/custom_graph_optimizer_registry.cc:117] Plugin optimizer for device_type GPU is enabled.\n"
     ]
    },
    {
     "name": "stdout",
     "output_type": "stream",
     "text": [
      "\u001b[1m192/192\u001b[0m \u001b[32m━━━━━━━━━━━━━━━━━━━━\u001b[0m\u001b[37m\u001b[0m \u001b[1m0s\u001b[0m 826ms/step - accuracy: 0.7706 - loss: 0.4774\n",
      "Epoch 1: val_accuracy improved from -inf to 0.93880, saving model to stage1_tl_best_model_resnet.h5\n"
     ]
    },
    {
     "name": "stderr",
     "output_type": "stream",
     "text": [
      "WARNING:absl:You are saving your model as an HDF5 file via `model.save()` or `keras.saving.save_model(model)`. This file format is considered legacy. We recommend using instead the native Keras format, e.g. `model.save('my_model.keras')` or `keras.saving.save_model(model, 'my_model.keras')`. \n"
     ]
    },
    {
     "name": "stdout",
     "output_type": "stream",
     "text": [
      "\u001b[1m192/192\u001b[0m \u001b[32m━━━━━━━━━━━━━━━━━━━━\u001b[0m\u001b[37m\u001b[0m \u001b[1m185s\u001b[0m 897ms/step - accuracy: 0.7710 - loss: 0.4767 - val_accuracy: 0.9388 - val_loss: 0.1974 - learning_rate: 1.0000e-04\n",
      "Epoch 2/50\n",
      "\u001b[1m192/192\u001b[0m \u001b[32m━━━━━━━━━━━━━━━━━━━━\u001b[0m\u001b[37m\u001b[0m \u001b[1m0s\u001b[0m 618ms/step - accuracy: 0.9241 - loss: 0.2040\n",
      "Epoch 2: val_accuracy did not improve from 0.93880\n",
      "\u001b[1m192/192\u001b[0m \u001b[32m━━━━━━━━━━━━━━━━━━━━\u001b[0m\u001b[37m\u001b[0m \u001b[1m130s\u001b[0m 675ms/step - accuracy: 0.9241 - loss: 0.2040 - val_accuracy: 0.9362 - val_loss: 0.1926 - learning_rate: 1.0000e-04\n",
      "Epoch 3/50\n",
      "\u001b[1m192/192\u001b[0m \u001b[32m━━━━━━━━━━━━━━━━━━━━\u001b[0m\u001b[37m\u001b[0m \u001b[1m0s\u001b[0m 617ms/step - accuracy: 0.9422 - loss: 0.1714\n",
      "Epoch 3: val_accuracy improved from 0.93880 to 0.96354, saving model to stage1_tl_best_model_resnet.h5\n"
     ]
    },
    {
     "name": "stderr",
     "output_type": "stream",
     "text": [
      "WARNING:absl:You are saving your model as an HDF5 file via `model.save()` or `keras.saving.save_model(model)`. This file format is considered legacy. We recommend using instead the native Keras format, e.g. `model.save('my_model.keras')` or `keras.saving.save_model(model, 'my_model.keras')`. \n"
     ]
    },
    {
     "name": "stdout",
     "output_type": "stream",
     "text": [
      "\u001b[1m192/192\u001b[0m \u001b[32m━━━━━━━━━━━━━━━━━━━━\u001b[0m\u001b[37m\u001b[0m \u001b[1m130s\u001b[0m 675ms/step - accuracy: 0.9422 - loss: 0.1714 - val_accuracy: 0.9635 - val_loss: 0.1279 - learning_rate: 1.0000e-04\n",
      "Epoch 4/50\n",
      "\u001b[1m192/192\u001b[0m \u001b[32m━━━━━━━━━━━━━━━━━━━━\u001b[0m\u001b[37m\u001b[0m \u001b[1m0s\u001b[0m 631ms/step - accuracy: 0.9527 - loss: 0.1510\n",
      "Epoch 4: val_accuracy did not improve from 0.96354\n",
      "\u001b[1m192/192\u001b[0m \u001b[32m━━━━━━━━━━━━━━━━━━━━\u001b[0m\u001b[37m\u001b[0m \u001b[1m132s\u001b[0m 688ms/step - accuracy: 0.9527 - loss: 0.1510 - val_accuracy: 0.9570 - val_loss: 0.1407 - learning_rate: 1.0000e-04\n",
      "Epoch 5/50\n",
      "\u001b[1m192/192\u001b[0m \u001b[32m━━━━━━━━━━━━━━━━━━━━\u001b[0m\u001b[37m\u001b[0m \u001b[1m0s\u001b[0m 658ms/step - accuracy: 0.9432 - loss: 0.1690\n",
      "Epoch 5: val_accuracy did not improve from 0.96354\n",
      "\u001b[1m192/192\u001b[0m \u001b[32m━━━━━━━━━━━━━━━━━━━━\u001b[0m\u001b[37m\u001b[0m \u001b[1m138s\u001b[0m 719ms/step - accuracy: 0.9432 - loss: 0.1689 - val_accuracy: 0.9277 - val_loss: 0.1858 - learning_rate: 1.0000e-04\n",
      "Epoch 6/50\n",
      "\u001b[1m192/192\u001b[0m \u001b[32m━━━━━━━━━━━━━━━━━━━━\u001b[0m\u001b[37m\u001b[0m \u001b[1m0s\u001b[0m 664ms/step - accuracy: 0.9494 - loss: 0.1514\n",
      "Epoch 6: val_accuracy did not improve from 0.96354\n",
      "\u001b[1m192/192\u001b[0m \u001b[32m━━━━━━━━━━━━━━━━━━━━\u001b[0m\u001b[37m\u001b[0m \u001b[1m138s\u001b[0m 717ms/step - accuracy: 0.9494 - loss: 0.1514 - val_accuracy: 0.9564 - val_loss: 0.1454 - learning_rate: 1.0000e-04\n",
      "Epoch 7/50\n",
      "\u001b[1m192/192\u001b[0m \u001b[32m━━━━━━━━━━━━━━━━━━━━\u001b[0m\u001b[37m\u001b[0m \u001b[1m0s\u001b[0m 628ms/step - accuracy: 0.9548 - loss: 0.1294\n",
      "Epoch 7: val_accuracy did not improve from 0.96354\n",
      "\u001b[1m192/192\u001b[0m \u001b[32m━━━━━━━━━━━━━━━━━━━━\u001b[0m\u001b[37m\u001b[0m \u001b[1m131s\u001b[0m 682ms/step - accuracy: 0.9548 - loss: 0.1294 - val_accuracy: 0.9551 - val_loss: 0.1383 - learning_rate: 1.0000e-04\n",
      "Epoch 8/50\n",
      "\u001b[1m192/192\u001b[0m \u001b[32m━━━━━━━━━━━━━━━━━━━━\u001b[0m\u001b[37m\u001b[0m \u001b[1m0s\u001b[0m 633ms/step - accuracy: 0.9576 - loss: 0.1258\n",
      "Epoch 8: val_accuracy improved from 0.96354 to 0.96875, saving model to stage1_tl_best_model_resnet.h5\n"
     ]
    },
    {
     "name": "stderr",
     "output_type": "stream",
     "text": [
      "WARNING:absl:You are saving your model as an HDF5 file via `model.save()` or `keras.saving.save_model(model)`. This file format is considered legacy. We recommend using instead the native Keras format, e.g. `model.save('my_model.keras')` or `keras.saving.save_model(model, 'my_model.keras')`. \n"
     ]
    },
    {
     "name": "stdout",
     "output_type": "stream",
     "text": [
      "\u001b[1m192/192\u001b[0m \u001b[32m━━━━━━━━━━━━━━━━━━━━\u001b[0m\u001b[37m\u001b[0m \u001b[1m133s\u001b[0m 692ms/step - accuracy: 0.9576 - loss: 0.1258 - val_accuracy: 0.9688 - val_loss: 0.1070 - learning_rate: 1.0000e-04\n",
      "Epoch 9/50\n",
      "\u001b[1m192/192\u001b[0m \u001b[32m━━━━━━━━━━━━━━━━━━━━\u001b[0m\u001b[37m\u001b[0m \u001b[1m0s\u001b[0m 695ms/step - accuracy: 0.9643 - loss: 0.1186\n",
      "Epoch 9: val_accuracy improved from 0.96875 to 0.96940, saving model to stage1_tl_best_model_resnet.h5\n"
     ]
    },
    {
     "name": "stderr",
     "output_type": "stream",
     "text": [
      "WARNING:absl:You are saving your model as an HDF5 file via `model.save()` or `keras.saving.save_model(model)`. This file format is considered legacy. We recommend using instead the native Keras format, e.g. `model.save('my_model.keras')` or `keras.saving.save_model(model, 'my_model.keras')`. \n"
     ]
    },
    {
     "name": "stdout",
     "output_type": "stream",
     "text": [
      "\u001b[1m192/192\u001b[0m \u001b[32m━━━━━━━━━━━━━━━━━━━━\u001b[0m\u001b[37m\u001b[0m \u001b[1m146s\u001b[0m 763ms/step - accuracy: 0.9643 - loss: 0.1186 - val_accuracy: 0.9694 - val_loss: 0.1030 - learning_rate: 1.0000e-04\n",
      "Epoch 10/50\n",
      "\u001b[1m192/192\u001b[0m \u001b[32m━━━━━━━━━━━━━━━━━━━━\u001b[0m\u001b[37m\u001b[0m \u001b[1m0s\u001b[0m 698ms/step - accuracy: 0.9606 - loss: 0.1176\n",
      "Epoch 10: val_accuracy did not improve from 0.96940\n",
      "\u001b[1m192/192\u001b[0m \u001b[32m━━━━━━━━━━━━━━━━━━━━\u001b[0m\u001b[37m\u001b[0m \u001b[1m145s\u001b[0m 758ms/step - accuracy: 0.9606 - loss: 0.1176 - val_accuracy: 0.9603 - val_loss: 0.1299 - learning_rate: 1.0000e-04\n",
      "Epoch 11/50\n",
      "\u001b[1m192/192\u001b[0m \u001b[32m━━━━━━━━━━━━━━━━━━━━\u001b[0m\u001b[37m\u001b[0m \u001b[1m0s\u001b[0m 663ms/step - accuracy: 0.9658 - loss: 0.1066\n",
      "Epoch 11: val_accuracy did not improve from 0.96940\n",
      "\u001b[1m192/192\u001b[0m \u001b[32m━━━━━━━━━━━━━━━━━━━━\u001b[0m\u001b[37m\u001b[0m \u001b[1m138s\u001b[0m 717ms/step - accuracy: 0.9658 - loss: 0.1066 - val_accuracy: 0.9655 - val_loss: 0.1138 - learning_rate: 1.0000e-04\n",
      "Epoch 12/50\n",
      "\u001b[1m192/192\u001b[0m \u001b[32m━━━━━━━━━━━━━━━━━━━━\u001b[0m\u001b[37m\u001b[0m \u001b[1m0s\u001b[0m 644ms/step - accuracy: 0.9646 - loss: 0.1107\n",
      "Epoch 12: val_accuracy improved from 0.96940 to 0.97135, saving model to stage1_tl_best_model_resnet.h5\n"
     ]
    },
    {
     "name": "stderr",
     "output_type": "stream",
     "text": [
      "WARNING:absl:You are saving your model as an HDF5 file via `model.save()` or `keras.saving.save_model(model)`. This file format is considered legacy. We recommend using instead the native Keras format, e.g. `model.save('my_model.keras')` or `keras.saving.save_model(model, 'my_model.keras')`. \n"
     ]
    },
    {
     "name": "stdout",
     "output_type": "stream",
     "text": [
      "\u001b[1m192/192\u001b[0m \u001b[32m━━━━━━━━━━━━━━━━━━━━\u001b[0m\u001b[37m\u001b[0m \u001b[1m137s\u001b[0m 712ms/step - accuracy: 0.9646 - loss: 0.1107 - val_accuracy: 0.9714 - val_loss: 0.1055 - learning_rate: 1.0000e-04\n",
      "Epoch 13/50\n",
      "\u001b[1m192/192\u001b[0m \u001b[32m━━━━━━━━━━━━━━━━━━━━\u001b[0m\u001b[37m\u001b[0m \u001b[1m0s\u001b[0m 642ms/step - accuracy: 0.9600 - loss: 0.1199\n",
      "Epoch 13: val_accuracy improved from 0.97135 to 0.97266, saving model to stage1_tl_best_model_resnet.h5\n"
     ]
    },
    {
     "name": "stderr",
     "output_type": "stream",
     "text": [
      "WARNING:absl:You are saving your model as an HDF5 file via `model.save()` or `keras.saving.save_model(model)`. This file format is considered legacy. We recommend using instead the native Keras format, e.g. `model.save('my_model.keras')` or `keras.saving.save_model(model, 'my_model.keras')`. \n"
     ]
    },
    {
     "name": "stdout",
     "output_type": "stream",
     "text": [
      "\u001b[1m192/192\u001b[0m \u001b[32m━━━━━━━━━━━━━━━━━━━━\u001b[0m\u001b[37m\u001b[0m \u001b[1m136s\u001b[0m 706ms/step - accuracy: 0.9600 - loss: 0.1199 - val_accuracy: 0.9727 - val_loss: 0.0918 - learning_rate: 1.0000e-04\n",
      "Epoch 14/50\n",
      "\u001b[1m192/192\u001b[0m \u001b[32m━━━━━━━━━━━━━━━━━━━━\u001b[0m\u001b[37m\u001b[0m \u001b[1m0s\u001b[0m 690ms/step - accuracy: 0.9652 - loss: 0.1073\n",
      "Epoch 14: val_accuracy did not improve from 0.97266\n",
      "\u001b[1m192/192\u001b[0m \u001b[32m━━━━━━━━━━━━━━━━━━━━\u001b[0m\u001b[37m\u001b[0m \u001b[1m144s\u001b[0m 751ms/step - accuracy: 0.9652 - loss: 0.1073 - val_accuracy: 0.9694 - val_loss: 0.1103 - learning_rate: 1.0000e-04\n",
      "Epoch 15/50\n",
      "\u001b[1m192/192\u001b[0m \u001b[32m━━━━━━━━━━━━━━━━━━━━\u001b[0m\u001b[37m\u001b[0m \u001b[1m0s\u001b[0m 689ms/step - accuracy: 0.9693 - loss: 0.1023\n",
      "Epoch 15: val_accuracy improved from 0.97266 to 0.97331, saving model to stage1_tl_best_model_resnet.h5\n"
     ]
    },
    {
     "name": "stderr",
     "output_type": "stream",
     "text": [
      "WARNING:absl:You are saving your model as an HDF5 file via `model.save()` or `keras.saving.save_model(model)`. This file format is considered legacy. We recommend using instead the native Keras format, e.g. `model.save('my_model.keras')` or `keras.saving.save_model(model, 'my_model.keras')`. \n"
     ]
    },
    {
     "name": "stdout",
     "output_type": "stream",
     "text": [
      "\u001b[1m192/192\u001b[0m \u001b[32m━━━━━━━━━━━━━━━━━━━━\u001b[0m\u001b[37m\u001b[0m \u001b[1m144s\u001b[0m 753ms/step - accuracy: 0.9693 - loss: 0.1023 - val_accuracy: 0.9733 - val_loss: 0.0847 - learning_rate: 1.0000e-04\n",
      "Epoch 16/50\n",
      "\u001b[1m192/192\u001b[0m \u001b[32m━━━━━━━━━━━━━━━━━━━━\u001b[0m\u001b[37m\u001b[0m \u001b[1m0s\u001b[0m 681ms/step - accuracy: 0.9743 - loss: 0.0800\n",
      "Epoch 16: val_accuracy did not improve from 0.97331\n",
      "\u001b[1m192/192\u001b[0m \u001b[32m━━━━━━━━━━━━━━━━━━━━\u001b[0m\u001b[37m\u001b[0m \u001b[1m142s\u001b[0m 742ms/step - accuracy: 0.9743 - loss: 0.0801 - val_accuracy: 0.9727 - val_loss: 0.0913 - learning_rate: 1.0000e-04\n",
      "Epoch 17/50\n",
      "\u001b[1m192/192\u001b[0m \u001b[32m━━━━━━━━━━━━━━━━━━━━\u001b[0m\u001b[37m\u001b[0m \u001b[1m0s\u001b[0m 679ms/step - accuracy: 0.9636 - loss: 0.1015\n",
      "Epoch 17: val_accuracy did not improve from 0.97331\n",
      "\u001b[1m192/192\u001b[0m \u001b[32m━━━━━━━━━━━━━━━━━━━━\u001b[0m\u001b[37m\u001b[0m \u001b[1m142s\u001b[0m 738ms/step - accuracy: 0.9636 - loss: 0.1015 - val_accuracy: 0.9629 - val_loss: 0.1092 - learning_rate: 1.0000e-04\n",
      "Epoch 18/50\n",
      "\u001b[1m192/192\u001b[0m \u001b[32m━━━━━━━━━━━━━━━━━━━━\u001b[0m\u001b[37m\u001b[0m \u001b[1m0s\u001b[0m 678ms/step - accuracy: 0.9691 - loss: 0.0948\n",
      "Epoch 18: val_accuracy did not improve from 0.97331\n",
      "\u001b[1m192/192\u001b[0m \u001b[32m━━━━━━━━━━━━━━━━━━━━\u001b[0m\u001b[37m\u001b[0m \u001b[1m141s\u001b[0m 736ms/step - accuracy: 0.9691 - loss: 0.0948 - val_accuracy: 0.9714 - val_loss: 0.0891 - learning_rate: 1.0000e-04\n",
      "Epoch 19/50\n",
      "\u001b[1m192/192\u001b[0m \u001b[32m━━━━━━━━━━━━━━━━━━━━\u001b[0m\u001b[37m\u001b[0m \u001b[1m0s\u001b[0m 677ms/step - accuracy: 0.9726 - loss: 0.0895\n",
      "Epoch 19: val_accuracy did not improve from 0.97331\n",
      "\u001b[1m192/192\u001b[0m \u001b[32m━━━━━━━━━━━━━━━━━━━━\u001b[0m\u001b[37m\u001b[0m \u001b[1m142s\u001b[0m 737ms/step - accuracy: 0.9726 - loss: 0.0895 - val_accuracy: 0.9688 - val_loss: 0.0997 - learning_rate: 1.0000e-04\n",
      "Epoch 20/50\n",
      "\u001b[1m192/192\u001b[0m \u001b[32m━━━━━━━━━━━━━━━━━━━━\u001b[0m\u001b[37m\u001b[0m \u001b[1m0s\u001b[0m 679ms/step - accuracy: 0.9689 - loss: 0.0868\n",
      "Epoch 20: val_accuracy did not improve from 0.97331\n",
      "\n",
      "Epoch 20: ReduceLROnPlateau reducing learning rate to 4.999999873689376e-05.\n",
      "\u001b[1m192/192\u001b[0m \u001b[32m━━━━━━━━━━━━━━━━━━━━\u001b[0m\u001b[37m\u001b[0m \u001b[1m142s\u001b[0m 740ms/step - accuracy: 0.9689 - loss: 0.0868 - val_accuracy: 0.9727 - val_loss: 0.0864 - learning_rate: 1.0000e-04\n",
      "Epoch 21/50\n",
      "\u001b[1m192/192\u001b[0m \u001b[32m━━━━━━━━━━━━━━━━━━━━\u001b[0m\u001b[37m\u001b[0m \u001b[1m0s\u001b[0m 679ms/step - accuracy: 0.9736 - loss: 0.0856\n",
      "Epoch 21: val_accuracy did not improve from 0.97331\n",
      "\u001b[1m192/192\u001b[0m \u001b[32m━━━━━━━━━━━━━━━━━━━━\u001b[0m\u001b[37m\u001b[0m \u001b[1m141s\u001b[0m 737ms/step - accuracy: 0.9735 - loss: 0.0856 - val_accuracy: 0.9681 - val_loss: 0.1013 - learning_rate: 5.0000e-05\n",
      "Epoch 22/50\n",
      "\u001b[1m192/192\u001b[0m \u001b[32m━━━━━━━━━━━━━━━━━━━━\u001b[0m\u001b[37m\u001b[0m \u001b[1m0s\u001b[0m 638ms/step - accuracy: 0.9745 - loss: 0.0750\n",
      "Epoch 22: val_accuracy did not improve from 0.97331\n",
      "\u001b[1m192/192\u001b[0m \u001b[32m━━━━━━━━━━━━━━━━━━━━\u001b[0m\u001b[37m\u001b[0m \u001b[1m133s\u001b[0m 693ms/step - accuracy: 0.9745 - loss: 0.0750 - val_accuracy: 0.9688 - val_loss: 0.1000 - learning_rate: 5.0000e-05\n",
      "Epoch 23/50\n",
      "\u001b[1m192/192\u001b[0m \u001b[32m━━━━━━━━━━━━━━━━━━━━\u001b[0m\u001b[37m\u001b[0m \u001b[1m0s\u001b[0m 639ms/step - accuracy: 0.9768 - loss: 0.0746\n",
      "Epoch 23: val_accuracy improved from 0.97331 to 0.97461, saving model to stage1_tl_best_model_resnet.h5\n"
     ]
    },
    {
     "name": "stderr",
     "output_type": "stream",
     "text": [
      "WARNING:absl:You are saving your model as an HDF5 file via `model.save()` or `keras.saving.save_model(model)`. This file format is considered legacy. We recommend using instead the native Keras format, e.g. `model.save('my_model.keras')` or `keras.saving.save_model(model, 'my_model.keras')`. \n"
     ]
    },
    {
     "name": "stdout",
     "output_type": "stream",
     "text": [
      "\u001b[1m192/192\u001b[0m \u001b[32m━━━━━━━━━━━━━━━━━━━━\u001b[0m\u001b[37m\u001b[0m \u001b[1m134s\u001b[0m 696ms/step - accuracy: 0.9768 - loss: 0.0747 - val_accuracy: 0.9746 - val_loss: 0.0784 - learning_rate: 5.0000e-05\n",
      "Epoch 24/50\n",
      "\u001b[1m192/192\u001b[0m \u001b[32m━━━━━━━━━━━━━━━━━━━━\u001b[0m\u001b[37m\u001b[0m \u001b[1m0s\u001b[0m 694ms/step - accuracy: 0.9739 - loss: 0.0816\n",
      "Epoch 24: val_accuracy did not improve from 0.97461\n",
      "\u001b[1m192/192\u001b[0m \u001b[32m━━━━━━━━━━━━━━━━━━━━\u001b[0m\u001b[37m\u001b[0m \u001b[1m145s\u001b[0m 756ms/step - accuracy: 0.9739 - loss: 0.0816 - val_accuracy: 0.9688 - val_loss: 0.1033 - learning_rate: 5.0000e-05\n",
      "Epoch 25/50\n",
      "\u001b[1m192/192\u001b[0m \u001b[32m━━━━━━━━━━━━━━━━━━━━\u001b[0m\u001b[37m\u001b[0m \u001b[1m0s\u001b[0m 706ms/step - accuracy: 0.9756 - loss: 0.0746\n",
      "Epoch 25: val_accuracy did not improve from 0.97461\n",
      "\u001b[1m192/192\u001b[0m \u001b[32m━━━━━━━━━━━━━━━━━━━━\u001b[0m\u001b[37m\u001b[0m \u001b[1m147s\u001b[0m 767ms/step - accuracy: 0.9756 - loss: 0.0746 - val_accuracy: 0.9668 - val_loss: 0.1131 - learning_rate: 5.0000e-05\n",
      "Epoch 26/50\n",
      "\u001b[1m192/192\u001b[0m \u001b[32m━━━━━━━━━━━━━━━━━━━━\u001b[0m\u001b[37m\u001b[0m \u001b[1m0s\u001b[0m 652ms/step - accuracy: 0.9752 - loss: 0.0767\n",
      "Epoch 26: val_accuracy did not improve from 0.97461\n",
      "\u001b[1m192/192\u001b[0m \u001b[32m━━━━━━━━━━━━━━━━━━━━\u001b[0m\u001b[37m\u001b[0m \u001b[1m135s\u001b[0m 704ms/step - accuracy: 0.9752 - loss: 0.0768 - val_accuracy: 0.9681 - val_loss: 0.1101 - learning_rate: 5.0000e-05\n",
      "Epoch 27/50\n",
      "\u001b[1m192/192\u001b[0m \u001b[32m━━━━━━━━━━━━━━━━━━━━\u001b[0m\u001b[37m\u001b[0m \u001b[1m0s\u001b[0m 611ms/step - accuracy: 0.9745 - loss: 0.0803\n",
      "Epoch 27: val_accuracy did not improve from 0.97461\n",
      "\u001b[1m192/192\u001b[0m \u001b[32m━━━━━━━━━━━━━━━━━━━━\u001b[0m\u001b[37m\u001b[0m \u001b[1m128s\u001b[0m 665ms/step - accuracy: 0.9745 - loss: 0.0803 - val_accuracy: 0.9681 - val_loss: 0.1078 - learning_rate: 5.0000e-05\n",
      "Epoch 28/50\n",
      "\u001b[1m192/192\u001b[0m \u001b[32m━━━━━━━━━━━━━━━━━━━━\u001b[0m\u001b[37m\u001b[0m \u001b[1m0s\u001b[0m 613ms/step - accuracy: 0.9744 - loss: 0.0821\n",
      "Epoch 28: val_accuracy did not improve from 0.97461\n",
      "\n",
      "Epoch 28: ReduceLROnPlateau reducing learning rate to 2.499999936844688e-05.\n",
      "\u001b[1m192/192\u001b[0m \u001b[32m━━━━━━━━━━━━━━━━━━━━\u001b[0m\u001b[37m\u001b[0m \u001b[1m128s\u001b[0m 666ms/step - accuracy: 0.9744 - loss: 0.0820 - val_accuracy: 0.9701 - val_loss: 0.1029 - learning_rate: 5.0000e-05\n",
      "Epoch 29/50\n",
      "\u001b[1m192/192\u001b[0m \u001b[32m━━━━━━━━━━━━━━━━━━━━\u001b[0m\u001b[37m\u001b[0m \u001b[1m0s\u001b[0m 613ms/step - accuracy: 0.9760 - loss: 0.0725\n",
      "Epoch 29: val_accuracy did not improve from 0.97461\n",
      "\u001b[1m192/192\u001b[0m \u001b[32m━━━━━━━━━━━━━━━━━━━━\u001b[0m\u001b[37m\u001b[0m \u001b[1m128s\u001b[0m 665ms/step - accuracy: 0.9760 - loss: 0.0725 - val_accuracy: 0.9655 - val_loss: 0.1220 - learning_rate: 2.5000e-05\n",
      "Epoch 30/50\n",
      "\u001b[1m192/192\u001b[0m \u001b[32m━━━━━━━━━━━━━━━━━━━━\u001b[0m\u001b[37m\u001b[0m \u001b[1m0s\u001b[0m 613ms/step - accuracy: 0.9770 - loss: 0.0701\n",
      "Epoch 30: val_accuracy did not improve from 0.97461\n",
      "\u001b[1m192/192\u001b[0m \u001b[32m━━━━━━━━━━━━━━━━━━━━\u001b[0m\u001b[37m\u001b[0m \u001b[1m128s\u001b[0m 666ms/step - accuracy: 0.9770 - loss: 0.0701 - val_accuracy: 0.9701 - val_loss: 0.1008 - learning_rate: 2.5000e-05\n",
      "Epoch 31/50\n",
      "\u001b[1m192/192\u001b[0m \u001b[32m━━━━━━━━━━━━━━━━━━━━\u001b[0m\u001b[37m\u001b[0m \u001b[1m0s\u001b[0m 605ms/step - accuracy: 0.9751 - loss: 0.0716\n",
      "Epoch 31: val_accuracy did not improve from 0.97461\n",
      "\u001b[1m192/192\u001b[0m \u001b[32m━━━━━━━━━━━━━━━━━━━━\u001b[0m\u001b[37m\u001b[0m \u001b[1m126s\u001b[0m 655ms/step - accuracy: 0.9752 - loss: 0.0716 - val_accuracy: 0.9701 - val_loss: 0.0934 - learning_rate: 2.5000e-05\n",
      "Epoch 32/50\n",
      "\u001b[1m192/192\u001b[0m \u001b[32m━━━━━━━━━━━━━━━━━━━━\u001b[0m\u001b[37m\u001b[0m \u001b[1m0s\u001b[0m 604ms/step - accuracy: 0.9760 - loss: 0.0744\n",
      "Epoch 32: val_accuracy did not improve from 0.97461\n",
      "\u001b[1m192/192\u001b[0m \u001b[32m━━━━━━━━━━━━━━━━━━━━\u001b[0m\u001b[37m\u001b[0m \u001b[1m126s\u001b[0m 656ms/step - accuracy: 0.9760 - loss: 0.0744 - val_accuracy: 0.9694 - val_loss: 0.1082 - learning_rate: 2.5000e-05\n",
      "Epoch 33/50\n",
      "\u001b[1m192/192\u001b[0m \u001b[32m━━━━━━━━━━━━━━━━━━━━\u001b[0m\u001b[37m\u001b[0m \u001b[1m0s\u001b[0m 606ms/step - accuracy: 0.9761 - loss: 0.0653\n",
      "Epoch 33: val_accuracy did not improve from 0.97461\n",
      "\n",
      "Epoch 33: ReduceLROnPlateau reducing learning rate to 1.249999968422344e-05.\n",
      "\u001b[1m192/192\u001b[0m \u001b[32m━━━━━━━━━━━━━━━━━━━━\u001b[0m\u001b[37m\u001b[0m \u001b[1m126s\u001b[0m 659ms/step - accuracy: 0.9761 - loss: 0.0653 - val_accuracy: 0.9720 - val_loss: 0.0936 - learning_rate: 2.5000e-05\n",
      "Epoch 33: early stopping\n",
      "Restoring model weights from the end of the best epoch: 23.\n",
      "\n",
      "--- Stage 1 전이 학습 모델 학습 완료 ---\n",
      "\n",
      "--- Stage 2 전이 학습 모델 학습 시작 ---\n",
      "Epoch 1/100\n",
      "\u001b[1m162/162\u001b[0m \u001b[32m━━━━━━━━━━━━━━━━━━━━\u001b[0m\u001b[37m\u001b[0m \u001b[1m0s\u001b[0m 607ms/step - accuracy: 0.5698 - loss: 0.9078\n",
      "Epoch 1: val_accuracy improved from -inf to 0.77546, saving model to stage2_tl_best_model_resnet.h5\n"
     ]
    },
    {
     "name": "stderr",
     "output_type": "stream",
     "text": [
      "WARNING:absl:You are saving your model as an HDF5 file via `model.save()` or `keras.saving.save_model(model)`. This file format is considered legacy. We recommend using instead the native Keras format, e.g. `model.save('my_model.keras')` or `keras.saving.save_model(model, 'my_model.keras')`. \n"
     ]
    },
    {
     "name": "stdout",
     "output_type": "stream",
     "text": [
      "\u001b[1m162/162\u001b[0m \u001b[32m━━━━━━━━━━━━━━━━━━━━\u001b[0m\u001b[37m\u001b[0m \u001b[1m118s\u001b[0m 688ms/step - accuracy: 0.5703 - loss: 0.9070 - val_accuracy: 0.7755 - val_loss: 0.5323 - learning_rate: 1.0000e-04\n",
      "Epoch 2/100\n",
      "\u001b[1m162/162\u001b[0m \u001b[32m━━━━━━━━━━━━━━━━━━━━\u001b[0m\u001b[37m\u001b[0m \u001b[1m0s\u001b[0m 629ms/step - accuracy: 0.7298 - loss: 0.6010\n",
      "Epoch 2: val_accuracy improved from 0.77546 to 0.91204, saving model to stage2_tl_best_model_resnet.h5\n"
     ]
    },
    {
     "name": "stderr",
     "output_type": "stream",
     "text": [
      "WARNING:absl:You are saving your model as an HDF5 file via `model.save()` or `keras.saving.save_model(model)`. This file format is considered legacy. We recommend using instead the native Keras format, e.g. `model.save('my_model.keras')` or `keras.saving.save_model(model, 'my_model.keras')`. \n"
     ]
    },
    {
     "name": "stdout",
     "output_type": "stream",
     "text": [
      "\u001b[1m162/162\u001b[0m \u001b[32m━━━━━━━━━━━━━━━━━━━━\u001b[0m\u001b[37m\u001b[0m \u001b[1m112s\u001b[0m 689ms/step - accuracy: 0.7299 - loss: 0.6006 - val_accuracy: 0.9120 - val_loss: 0.3905 - learning_rate: 1.0000e-04\n",
      "Epoch 3/100\n",
      "\u001b[1m162/162\u001b[0m \u001b[32m━━━━━━━━━━━━━━━━━━━━\u001b[0m\u001b[37m\u001b[0m \u001b[1m0s\u001b[0m 634ms/step - accuracy: 0.8036 - loss: 0.4590\n",
      "Epoch 3: val_accuracy did not improve from 0.91204\n",
      "\u001b[1m162/162\u001b[0m \u001b[32m━━━━━━━━━━━━━━━━━━━━\u001b[0m\u001b[37m\u001b[0m \u001b[1m112s\u001b[0m 691ms/step - accuracy: 0.8037 - loss: 0.4589 - val_accuracy: 0.8657 - val_loss: 0.3932 - learning_rate: 1.0000e-04\n",
      "Epoch 4/100\n",
      "\u001b[1m162/162\u001b[0m \u001b[32m━━━━━━━━━━━━━━━━━━━━\u001b[0m\u001b[37m\u001b[0m \u001b[1m0s\u001b[0m 629ms/step - accuracy: 0.8340 - loss: 0.3909\n",
      "Epoch 4: val_accuracy improved from 0.91204 to 0.91590, saving model to stage2_tl_best_model_resnet.h5\n"
     ]
    },
    {
     "name": "stderr",
     "output_type": "stream",
     "text": [
      "WARNING:absl:You are saving your model as an HDF5 file via `model.save()` or `keras.saving.save_model(model)`. This file format is considered legacy. We recommend using instead the native Keras format, e.g. `model.save('my_model.keras')` or `keras.saving.save_model(model, 'my_model.keras')`. \n"
     ]
    },
    {
     "name": "stdout",
     "output_type": "stream",
     "text": [
      "\u001b[1m162/162\u001b[0m \u001b[32m━━━━━━━━━━━━━━━━━━━━\u001b[0m\u001b[37m\u001b[0m \u001b[1m112s\u001b[0m 689ms/step - accuracy: 0.8340 - loss: 0.3909 - val_accuracy: 0.9159 - val_loss: 0.2568 - learning_rate: 1.0000e-04\n",
      "Epoch 5/100\n",
      "\u001b[1m162/162\u001b[0m \u001b[32m━━━━━━━━━━━━━━━━━━━━\u001b[0m\u001b[37m\u001b[0m \u001b[1m0s\u001b[0m 625ms/step - accuracy: 0.8518 - loss: 0.3512\n",
      "Epoch 5: val_accuracy improved from 0.91590 to 0.91975, saving model to stage2_tl_best_model_resnet.h5\n"
     ]
    },
    {
     "name": "stderr",
     "output_type": "stream",
     "text": [
      "WARNING:absl:You are saving your model as an HDF5 file via `model.save()` or `keras.saving.save_model(model)`. This file format is considered legacy. We recommend using instead the native Keras format, e.g. `model.save('my_model.keras')` or `keras.saving.save_model(model, 'my_model.keras')`. \n"
     ]
    },
    {
     "name": "stdout",
     "output_type": "stream",
     "text": [
      "\u001b[1m162/162\u001b[0m \u001b[32m━━━━━━━━━━━━━━━━━━━━\u001b[0m\u001b[37m\u001b[0m \u001b[1m111s\u001b[0m 686ms/step - accuracy: 0.8519 - loss: 0.3511 - val_accuracy: 0.9198 - val_loss: 0.2456 - learning_rate: 1.0000e-04\n",
      "Epoch 6/100\n",
      "\u001b[1m162/162\u001b[0m \u001b[32m━━━━━━━━━━━━━━━━━━━━\u001b[0m\u001b[37m\u001b[0m \u001b[1m0s\u001b[0m 627ms/step - accuracy: 0.8594 - loss: 0.3512\n",
      "Epoch 6: val_accuracy did not improve from 0.91975\n",
      "\u001b[1m162/162\u001b[0m \u001b[32m━━━━━━━━━━━━━━━━━━━━\u001b[0m\u001b[37m\u001b[0m \u001b[1m110s\u001b[0m 682ms/step - accuracy: 0.8594 - loss: 0.3513 - val_accuracy: 0.8449 - val_loss: 0.3576 - learning_rate: 1.0000e-04\n",
      "Epoch 7/100\n",
      "\u001b[1m162/162\u001b[0m \u001b[32m━━━━━━━━━━━━━━━━━━━━\u001b[0m\u001b[37m\u001b[0m \u001b[1m0s\u001b[0m 628ms/step - accuracy: 0.8620 - loss: 0.3352\n",
      "Epoch 7: val_accuracy improved from 0.91975 to 0.92901, saving model to stage2_tl_best_model_resnet.h5\n"
     ]
    },
    {
     "name": "stderr",
     "output_type": "stream",
     "text": [
      "WARNING:absl:You are saving your model as an HDF5 file via `model.save()` or `keras.saving.save_model(model)`. This file format is considered legacy. We recommend using instead the native Keras format, e.g. `model.save('my_model.keras')` or `keras.saving.save_model(model, 'my_model.keras')`. \n"
     ]
    },
    {
     "name": "stdout",
     "output_type": "stream",
     "text": [
      "\u001b[1m162/162\u001b[0m \u001b[32m━━━━━━━━━━━━━━━━━━━━\u001b[0m\u001b[37m\u001b[0m \u001b[1m111s\u001b[0m 688ms/step - accuracy: 0.8620 - loss: 0.3351 - val_accuracy: 0.9290 - val_loss: 0.2279 - learning_rate: 1.0000e-04\n",
      "Epoch 8/100\n",
      "\u001b[1m162/162\u001b[0m \u001b[32m━━━━━━━━━━━━━━━━━━━━\u001b[0m\u001b[37m\u001b[0m \u001b[1m0s\u001b[0m 626ms/step - accuracy: 0.8870 - loss: 0.2689\n",
      "Epoch 8: val_accuracy improved from 0.92901 to 0.95370, saving model to stage2_tl_best_model_resnet.h5\n"
     ]
    },
    {
     "name": "stderr",
     "output_type": "stream",
     "text": [
      "WARNING:absl:You are saving your model as an HDF5 file via `model.save()` or `keras.saving.save_model(model)`. This file format is considered legacy. We recommend using instead the native Keras format, e.g. `model.save('my_model.keras')` or `keras.saving.save_model(model, 'my_model.keras')`. \n"
     ]
    },
    {
     "name": "stdout",
     "output_type": "stream",
     "text": [
      "\u001b[1m162/162\u001b[0m \u001b[32m━━━━━━━━━━━━━━━━━━━━\u001b[0m\u001b[37m\u001b[0m \u001b[1m111s\u001b[0m 684ms/step - accuracy: 0.8870 - loss: 0.2690 - val_accuracy: 0.9537 - val_loss: 0.2174 - learning_rate: 1.0000e-04\n",
      "Epoch 9/100\n",
      "\u001b[1m162/162\u001b[0m \u001b[32m━━━━━━━━━━━━━━━━━━━━\u001b[0m\u001b[37m\u001b[0m \u001b[1m0s\u001b[0m 630ms/step - accuracy: 0.8860 - loss: 0.2845\n",
      "Epoch 9: val_accuracy did not improve from 0.95370\n",
      "\u001b[1m162/162\u001b[0m \u001b[32m━━━━━━━━━━━━━━━━━━━━\u001b[0m\u001b[37m\u001b[0m \u001b[1m111s\u001b[0m 685ms/step - accuracy: 0.8860 - loss: 0.2844 - val_accuracy: 0.9051 - val_loss: 0.2619 - learning_rate: 1.0000e-04\n",
      "Epoch 10/100\n",
      "\u001b[1m162/162\u001b[0m \u001b[32m━━━━━━━━━━━━━━━━━━━━\u001b[0m\u001b[37m\u001b[0m \u001b[1m0s\u001b[0m 625ms/step - accuracy: 0.8900 - loss: 0.2700\n",
      "Epoch 10: val_accuracy did not improve from 0.95370\n",
      "\u001b[1m162/162\u001b[0m \u001b[32m━━━━━━━━━━━━━━━━━━━━\u001b[0m\u001b[37m\u001b[0m \u001b[1m110s\u001b[0m 681ms/step - accuracy: 0.8900 - loss: 0.2700 - val_accuracy: 0.9483 - val_loss: 0.1882 - learning_rate: 1.0000e-04\n",
      "Epoch 11/100\n",
      "\u001b[1m162/162\u001b[0m \u001b[32m━━━━━━━━━━━━━━━━━━━━\u001b[0m\u001b[37m\u001b[0m \u001b[1m0s\u001b[0m 626ms/step - accuracy: 0.9044 - loss: 0.2469\n",
      "Epoch 11: val_accuracy did not improve from 0.95370\n",
      "\u001b[1m162/162\u001b[0m \u001b[32m━━━━━━━━━━━━━━━━━━━━\u001b[0m\u001b[37m\u001b[0m \u001b[1m110s\u001b[0m 682ms/step - accuracy: 0.9044 - loss: 0.2469 - val_accuracy: 0.9483 - val_loss: 0.1781 - learning_rate: 1.0000e-04\n",
      "Epoch 12/100\n",
      "\u001b[1m162/162\u001b[0m \u001b[32m━━━━━━━━━━━━━━━━━━━━\u001b[0m\u001b[37m\u001b[0m \u001b[1m0s\u001b[0m 633ms/step - accuracy: 0.9020 - loss: 0.2454\n",
      "Epoch 12: val_accuracy did not improve from 0.95370\n",
      "\u001b[1m162/162\u001b[0m \u001b[32m━━━━━━━━━━━━━━━━━━━━\u001b[0m\u001b[37m\u001b[0m \u001b[1m112s\u001b[0m 690ms/step - accuracy: 0.9020 - loss: 0.2454 - val_accuracy: 0.9522 - val_loss: 0.1711 - learning_rate: 1.0000e-04\n",
      "Epoch 13/100\n",
      "\u001b[1m162/162\u001b[0m \u001b[32m━━━━━━━━━━━━━━━━━━━━\u001b[0m\u001b[37m\u001b[0m \u001b[1m0s\u001b[0m 626ms/step - accuracy: 0.9108 - loss: 0.2416\n",
      "Epoch 13: val_accuracy improved from 0.95370 to 0.95525, saving model to stage2_tl_best_model_resnet.h5\n"
     ]
    },
    {
     "name": "stderr",
     "output_type": "stream",
     "text": [
      "WARNING:absl:You are saving your model as an HDF5 file via `model.save()` or `keras.saving.save_model(model)`. This file format is considered legacy. We recommend using instead the native Keras format, e.g. `model.save('my_model.keras')` or `keras.saving.save_model(model, 'my_model.keras')`. \n"
     ]
    },
    {
     "name": "stdout",
     "output_type": "stream",
     "text": [
      "\u001b[1m162/162\u001b[0m \u001b[32m━━━━━━━━━━━━━━━━━━━━\u001b[0m\u001b[37m\u001b[0m \u001b[1m111s\u001b[0m 686ms/step - accuracy: 0.9108 - loss: 0.2416 - val_accuracy: 0.9552 - val_loss: 0.1292 - learning_rate: 1.0000e-04\n",
      "Epoch 14/100\n",
      "\u001b[1m162/162\u001b[0m \u001b[32m━━━━━━━━━━━━━━━━━━━━\u001b[0m\u001b[37m\u001b[0m \u001b[1m0s\u001b[0m 625ms/step - accuracy: 0.9039 - loss: 0.2504\n",
      "Epoch 14: val_accuracy improved from 0.95525 to 0.96528, saving model to stage2_tl_best_model_resnet.h5\n"
     ]
    },
    {
     "name": "stderr",
     "output_type": "stream",
     "text": [
      "WARNING:absl:You are saving your model as an HDF5 file via `model.save()` or `keras.saving.save_model(model)`. This file format is considered legacy. We recommend using instead the native Keras format, e.g. `model.save('my_model.keras')` or `keras.saving.save_model(model, 'my_model.keras')`. \n"
     ]
    },
    {
     "name": "stdout",
     "output_type": "stream",
     "text": [
      "\u001b[1m162/162\u001b[0m \u001b[32m━━━━━━━━━━━━━━━━━━━━\u001b[0m\u001b[37m\u001b[0m \u001b[1m111s\u001b[0m 684ms/step - accuracy: 0.9039 - loss: 0.2504 - val_accuracy: 0.9653 - val_loss: 0.1450 - learning_rate: 1.0000e-04\n",
      "Epoch 15/100\n",
      "\u001b[1m162/162\u001b[0m \u001b[32m━━━━━━━━━━━━━━━━━━━━\u001b[0m\u001b[37m\u001b[0m \u001b[1m0s\u001b[0m 629ms/step - accuracy: 0.9152 - loss: 0.2215\n",
      "Epoch 15: val_accuracy improved from 0.96528 to 0.96991, saving model to stage2_tl_best_model_resnet.h5\n"
     ]
    },
    {
     "name": "stderr",
     "output_type": "stream",
     "text": [
      "WARNING:absl:You are saving your model as an HDF5 file via `model.save()` or `keras.saving.save_model(model)`. This file format is considered legacy. We recommend using instead the native Keras format, e.g. `model.save('my_model.keras')` or `keras.saving.save_model(model, 'my_model.keras')`. \n"
     ]
    },
    {
     "name": "stdout",
     "output_type": "stream",
     "text": [
      "\u001b[1m162/162\u001b[0m \u001b[32m━━━━━━━━━━━━━━━━━━━━\u001b[0m\u001b[37m\u001b[0m \u001b[1m112s\u001b[0m 690ms/step - accuracy: 0.9152 - loss: 0.2215 - val_accuracy: 0.9699 - val_loss: 0.1246 - learning_rate: 1.0000e-04\n",
      "Epoch 16/100\n",
      "\u001b[1m162/162\u001b[0m \u001b[32m━━━━━━━━━━━━━━━━━━━━\u001b[0m\u001b[37m\u001b[0m \u001b[1m0s\u001b[0m 631ms/step - accuracy: 0.9162 - loss: 0.2090\n",
      "Epoch 16: val_accuracy did not improve from 0.96991\n",
      "\u001b[1m162/162\u001b[0m \u001b[32m━━━━━━━━━━━━━━━━━━━━\u001b[0m\u001b[37m\u001b[0m \u001b[1m111s\u001b[0m 684ms/step - accuracy: 0.9162 - loss: 0.2090 - val_accuracy: 0.9537 - val_loss: 0.1390 - learning_rate: 1.0000e-04\n",
      "Epoch 17/100\n",
      "\u001b[1m162/162\u001b[0m \u001b[32m━━━━━━━━━━━━━━━━━━━━\u001b[0m\u001b[37m\u001b[0m \u001b[1m0s\u001b[0m 627ms/step - accuracy: 0.9265 - loss: 0.2007\n",
      "Epoch 17: val_accuracy did not improve from 0.96991\n",
      "\u001b[1m162/162\u001b[0m \u001b[32m━━━━━━━━━━━━━━━━━━━━\u001b[0m\u001b[37m\u001b[0m \u001b[1m111s\u001b[0m 682ms/step - accuracy: 0.9264 - loss: 0.2007 - val_accuracy: 0.9506 - val_loss: 0.1510 - learning_rate: 1.0000e-04\n",
      "Epoch 18/100\n",
      "\u001b[1m162/162\u001b[0m \u001b[32m━━━━━━━━━━━━━━━━━━━━\u001b[0m\u001b[37m\u001b[0m \u001b[1m0s\u001b[0m 630ms/step - accuracy: 0.9133 - loss: 0.2157\n",
      "Epoch 18: val_accuracy did not improve from 0.96991\n",
      "\u001b[1m162/162\u001b[0m \u001b[32m━━━━━━━━━━━━━━━━━━━━\u001b[0m\u001b[37m\u001b[0m \u001b[1m111s\u001b[0m 685ms/step - accuracy: 0.9133 - loss: 0.2157 - val_accuracy: 0.9498 - val_loss: 0.1726 - learning_rate: 1.0000e-04\n",
      "Epoch 19/100\n",
      "\u001b[1m162/162\u001b[0m \u001b[32m━━━━━━━━━━━━━━━━━━━━\u001b[0m\u001b[37m\u001b[0m \u001b[1m0s\u001b[0m 627ms/step - accuracy: 0.9135 - loss: 0.2277\n",
      "Epoch 19: val_accuracy did not improve from 0.96991\n",
      "\u001b[1m162/162\u001b[0m \u001b[32m━━━━━━━━━━━━━━━━━━━━\u001b[0m\u001b[37m\u001b[0m \u001b[1m111s\u001b[0m 682ms/step - accuracy: 0.9135 - loss: 0.2276 - val_accuracy: 0.9552 - val_loss: 0.1149 - learning_rate: 1.0000e-04\n",
      "Epoch 20/100\n",
      "\u001b[1m162/162\u001b[0m \u001b[32m━━━━━━━━━━━━━━━━━━━━\u001b[0m\u001b[37m\u001b[0m \u001b[1m0s\u001b[0m 626ms/step - accuracy: 0.9147 - loss: 0.2384\n",
      "Epoch 20: val_accuracy did not improve from 0.96991\n",
      "\u001b[1m162/162\u001b[0m \u001b[32m━━━━━━━━━━━━━━━━━━━━\u001b[0m\u001b[37m\u001b[0m \u001b[1m110s\u001b[0m 681ms/step - accuracy: 0.9147 - loss: 0.2382 - val_accuracy: 0.9560 - val_loss: 0.1586 - learning_rate: 1.0000e-04\n",
      "Epoch 21/100\n",
      "\u001b[1m162/162\u001b[0m \u001b[32m━━━━━━━━━━━━━━━━━━━━\u001b[0m\u001b[37m\u001b[0m \u001b[1m0s\u001b[0m 627ms/step - accuracy: 0.9230 - loss: 0.2062\n",
      "Epoch 21: val_accuracy did not improve from 0.96991\n",
      "\u001b[1m162/162\u001b[0m \u001b[32m━━━━━━━━━━━━━━━━━━━━\u001b[0m\u001b[37m\u001b[0m \u001b[1m111s\u001b[0m 683ms/step - accuracy: 0.9230 - loss: 0.2062 - val_accuracy: 0.9336 - val_loss: 0.1662 - learning_rate: 1.0000e-04\n",
      "Epoch 22/100\n",
      "\u001b[1m162/162\u001b[0m \u001b[32m━━━━━━━━━━━━━━━━━━━━\u001b[0m\u001b[37m\u001b[0m \u001b[1m0s\u001b[0m 629ms/step - accuracy: 0.9310 - loss: 0.1916\n",
      "Epoch 22: val_accuracy did not improve from 0.96991\n",
      "\u001b[1m162/162\u001b[0m \u001b[32m━━━━━━━━━━━━━━━━━━━━\u001b[0m\u001b[37m\u001b[0m \u001b[1m111s\u001b[0m 684ms/step - accuracy: 0.9310 - loss: 0.1917 - val_accuracy: 0.9583 - val_loss: 0.1292 - learning_rate: 1.0000e-04\n",
      "Epoch 23/100\n",
      "\u001b[1m162/162\u001b[0m \u001b[32m━━━━━━━━━━━━━━━━━━━━\u001b[0m\u001b[37m\u001b[0m \u001b[1m0s\u001b[0m 631ms/step - accuracy: 0.9217 - loss: 0.2081\n",
      "Epoch 23: val_accuracy did not improve from 0.96991\n",
      "\u001b[1m162/162\u001b[0m \u001b[32m━━━━━━━━━━━━━━━━━━━━\u001b[0m\u001b[37m\u001b[0m \u001b[1m111s\u001b[0m 686ms/step - accuracy: 0.9217 - loss: 0.2081 - val_accuracy: 0.9576 - val_loss: 0.1209 - learning_rate: 1.0000e-04\n",
      "Epoch 24/100\n",
      "\u001b[1m162/162\u001b[0m \u001b[32m━━━━━━━━━━━━━━━━━━━━\u001b[0m\u001b[37m\u001b[0m \u001b[1m0s\u001b[0m 632ms/step - accuracy: 0.9376 - loss: 0.1767\n",
      "Epoch 24: val_accuracy did not improve from 0.96991\n",
      "\u001b[1m162/162\u001b[0m \u001b[32m━━━━━━━━━━━━━━━━━━━━\u001b[0m\u001b[37m\u001b[0m \u001b[1m111s\u001b[0m 686ms/step - accuracy: 0.9375 - loss: 0.1768 - val_accuracy: 0.9684 - val_loss: 0.1172 - learning_rate: 1.0000e-04\n",
      "Epoch 25/100\n",
      "\u001b[1m162/162\u001b[0m \u001b[32m━━━━━━━━━━━━━━━━━━━━\u001b[0m\u001b[37m\u001b[0m \u001b[1m0s\u001b[0m 635ms/step - accuracy: 0.9323 - loss: 0.1756\n",
      "Epoch 25: val_accuracy did not improve from 0.96991\n",
      "\u001b[1m162/162\u001b[0m \u001b[32m━━━━━━━━━━━━━━━━━━━━\u001b[0m\u001b[37m\u001b[0m \u001b[1m113s\u001b[0m 697ms/step - accuracy: 0.9323 - loss: 0.1756 - val_accuracy: 0.9660 - val_loss: 0.1071 - learning_rate: 1.0000e-04\n",
      "Epoch 26/100\n",
      "\u001b[1m162/162\u001b[0m \u001b[32m━━━━━━━━━━━━━━━━━━━━\u001b[0m\u001b[37m\u001b[0m \u001b[1m0s\u001b[0m 632ms/step - accuracy: 0.9357 - loss: 0.1818\n",
      "Epoch 26: val_accuracy did not improve from 0.96991\n",
      "\u001b[1m162/162\u001b[0m \u001b[32m━━━━━━━━━━━━━━━━━━━━\u001b[0m\u001b[37m\u001b[0m \u001b[1m112s\u001b[0m 689ms/step - accuracy: 0.9357 - loss: 0.1818 - val_accuracy: 0.9491 - val_loss: 0.1373 - learning_rate: 1.0000e-04\n",
      "Epoch 27/100\n",
      "\u001b[1m162/162\u001b[0m \u001b[32m━━━━━━━━━━━━━━━━━━━━\u001b[0m\u001b[37m\u001b[0m \u001b[1m0s\u001b[0m 628ms/step - accuracy: 0.9265 - loss: 0.1927\n",
      "Epoch 27: val_accuracy did not improve from 0.96991\n",
      "\u001b[1m162/162\u001b[0m \u001b[32m━━━━━━━━━━━━━━━━━━━━\u001b[0m\u001b[37m\u001b[0m \u001b[1m110s\u001b[0m 681ms/step - accuracy: 0.9266 - loss: 0.1926 - val_accuracy: 0.9336 - val_loss: 0.1414 - learning_rate: 1.0000e-04\n",
      "Epoch 28/100\n",
      "\u001b[1m162/162\u001b[0m \u001b[32m━━━━━━━━━━━━━━━━━━━━\u001b[0m\u001b[37m\u001b[0m \u001b[1m0s\u001b[0m 630ms/step - accuracy: 0.9341 - loss: 0.1732\n",
      "Epoch 28: val_accuracy did not improve from 0.96991\n",
      "\u001b[1m162/162\u001b[0m \u001b[32m━━━━━━━━━━━━━━━━━━━━\u001b[0m\u001b[37m\u001b[0m \u001b[1m111s\u001b[0m 685ms/step - accuracy: 0.9341 - loss: 0.1732 - val_accuracy: 0.9537 - val_loss: 0.1142 - learning_rate: 1.0000e-04\n",
      "Epoch 29/100\n",
      "\u001b[1m162/162\u001b[0m \u001b[32m━━━━━━━━━━━━━━━━━━━━\u001b[0m\u001b[37m\u001b[0m \u001b[1m0s\u001b[0m 632ms/step - accuracy: 0.9287 - loss: 0.1843\n",
      "Epoch 29: val_accuracy did not improve from 0.96991\n",
      "\u001b[1m162/162\u001b[0m \u001b[32m━━━━━━━━━━━━━━━━━━━━\u001b[0m\u001b[37m\u001b[0m \u001b[1m111s\u001b[0m 687ms/step - accuracy: 0.9287 - loss: 0.1843 - val_accuracy: 0.9498 - val_loss: 0.1358 - learning_rate: 1.0000e-04\n",
      "Epoch 30/100\n",
      "\u001b[1m162/162\u001b[0m \u001b[32m━━━━━━━━━━━━━━━━━━━━\u001b[0m\u001b[37m\u001b[0m \u001b[1m0s\u001b[0m 631ms/step - accuracy: 0.9326 - loss: 0.1704\n",
      "Epoch 30: val_accuracy did not improve from 0.96991\n",
      "\u001b[1m162/162\u001b[0m \u001b[32m━━━━━━━━━━━━━━━━━━━━\u001b[0m\u001b[37m\u001b[0m \u001b[1m111s\u001b[0m 686ms/step - accuracy: 0.9326 - loss: 0.1704 - val_accuracy: 0.9390 - val_loss: 0.1437 - learning_rate: 1.0000e-04\n",
      "Epoch 31/100\n",
      "\u001b[1m162/162\u001b[0m \u001b[32m━━━━━━━━━━━━━━━━━━━━\u001b[0m\u001b[37m\u001b[0m \u001b[1m0s\u001b[0m 630ms/step - accuracy: 0.9372 - loss: 0.1622\n",
      "Epoch 31: val_accuracy did not improve from 0.96991\n",
      "\u001b[1m162/162\u001b[0m \u001b[32m━━━━━━━━━━━━━━━━━━━━\u001b[0m\u001b[37m\u001b[0m \u001b[1m111s\u001b[0m 685ms/step - accuracy: 0.9372 - loss: 0.1621 - val_accuracy: 0.9560 - val_loss: 0.1225 - learning_rate: 1.0000e-04\n",
      "Epoch 32/100\n",
      "\u001b[1m162/162\u001b[0m \u001b[32m━━━━━━━━━━━━━━━━━━━━\u001b[0m\u001b[37m\u001b[0m \u001b[1m0s\u001b[0m 628ms/step - accuracy: 0.9344 - loss: 0.1718\n",
      "Epoch 32: val_accuracy did not improve from 0.96991\n",
      "\u001b[1m162/162\u001b[0m \u001b[32m━━━━━━━━━━━━━━━━━━━━\u001b[0m\u001b[37m\u001b[0m \u001b[1m111s\u001b[0m 685ms/step - accuracy: 0.9345 - loss: 0.1717 - val_accuracy: 0.9637 - val_loss: 0.0904 - learning_rate: 1.0000e-04\n",
      "Epoch 33/100\n",
      "\u001b[1m162/162\u001b[0m \u001b[32m━━━━━━━━━━━━━━━━━━━━\u001b[0m\u001b[37m\u001b[0m \u001b[1m0s\u001b[0m 633ms/step - accuracy: 0.9505 - loss: 0.1415\n",
      "Epoch 33: val_accuracy did not improve from 0.96991\n",
      "\u001b[1m162/162\u001b[0m \u001b[32m━━━━━━━━━━━━━━━━━━━━\u001b[0m\u001b[37m\u001b[0m \u001b[1m111s\u001b[0m 688ms/step - accuracy: 0.9505 - loss: 0.1415 - val_accuracy: 0.9560 - val_loss: 0.1330 - learning_rate: 1.0000e-04\n",
      "Epoch 34/100\n",
      "\u001b[1m162/162\u001b[0m \u001b[32m━━━━━━━━━━━━━━━━━━━━\u001b[0m\u001b[37m\u001b[0m \u001b[1m0s\u001b[0m 641ms/step - accuracy: 0.9427 - loss: 0.1548\n",
      "Epoch 34: val_accuracy did not improve from 0.96991\n",
      "\u001b[1m162/162\u001b[0m \u001b[32m━━━━━━━━━━━━━━━━━━━━\u001b[0m\u001b[37m\u001b[0m \u001b[1m113s\u001b[0m 697ms/step - accuracy: 0.9427 - loss: 0.1548 - val_accuracy: 0.9684 - val_loss: 0.1100 - learning_rate: 1.0000e-04\n",
      "Epoch 35/100\n",
      "\u001b[1m162/162\u001b[0m \u001b[32m━━━━━━━━━━━━━━━━━━━━\u001b[0m\u001b[37m\u001b[0m \u001b[1m0s\u001b[0m 619ms/step - accuracy: 0.9454 - loss: 0.1458\n",
      "Epoch 35: val_accuracy did not improve from 0.96991\n",
      "\u001b[1m162/162\u001b[0m \u001b[32m━━━━━━━━━━━━━━━━━━━━\u001b[0m\u001b[37m\u001b[0m \u001b[1m109s\u001b[0m 674ms/step - accuracy: 0.9454 - loss: 0.1459 - val_accuracy: 0.9684 - val_loss: 0.1190 - learning_rate: 1.0000e-04\n",
      "Epoch 36/100\n",
      "\u001b[1m162/162\u001b[0m \u001b[32m━━━━━━━━━━━━━━━━━━━━\u001b[0m\u001b[37m\u001b[0m \u001b[1m0s\u001b[0m 614ms/step - accuracy: 0.9383 - loss: 0.1617\n",
      "Epoch 36: val_accuracy did not improve from 0.96991\n",
      "\u001b[1m162/162\u001b[0m \u001b[32m━━━━━━━━━━━━━━━━━━━━\u001b[0m\u001b[37m\u001b[0m \u001b[1m108s\u001b[0m 668ms/step - accuracy: 0.9383 - loss: 0.1617 - val_accuracy: 0.9653 - val_loss: 0.1310 - learning_rate: 1.0000e-04\n",
      "Epoch 37/100\n",
      "\u001b[1m162/162\u001b[0m \u001b[32m━━━━━━━━━━━━━━━━━━━━\u001b[0m\u001b[37m\u001b[0m \u001b[1m0s\u001b[0m 633ms/step - accuracy: 0.9338 - loss: 0.1593\n",
      "Epoch 37: val_accuracy did not improve from 0.96991\n",
      "\u001b[1m162/162\u001b[0m \u001b[32m━━━━━━━━━━━━━━━━━━━━\u001b[0m\u001b[37m\u001b[0m \u001b[1m112s\u001b[0m 689ms/step - accuracy: 0.9338 - loss: 0.1594 - val_accuracy: 0.9545 - val_loss: 0.1203 - learning_rate: 1.0000e-04\n",
      "Epoch 38/100\n",
      "\u001b[1m162/162\u001b[0m \u001b[32m━━━━━━━━━━━━━━━━━━━━\u001b[0m\u001b[37m\u001b[0m \u001b[1m0s\u001b[0m 629ms/step - accuracy: 0.9350 - loss: 0.1784\n",
      "Epoch 38: val_accuracy did not improve from 0.96991\n",
      "\u001b[1m162/162\u001b[0m \u001b[32m━━━━━━━━━━━━━━━━━━━━\u001b[0m\u001b[37m\u001b[0m \u001b[1m111s\u001b[0m 685ms/step - accuracy: 0.9350 - loss: 0.1783 - val_accuracy: 0.9660 - val_loss: 0.0897 - learning_rate: 1.0000e-04\n",
      "Epoch 39/100\n",
      "\u001b[1m162/162\u001b[0m \u001b[32m━━━━━━━━━━━━━━━━━━━━\u001b[0m\u001b[37m\u001b[0m \u001b[1m0s\u001b[0m 630ms/step - accuracy: 0.9396 - loss: 0.1721\n",
      "Epoch 39: val_accuracy improved from 0.96991 to 0.97145, saving model to stage2_tl_best_model_resnet.h5\n"
     ]
    },
    {
     "name": "stderr",
     "output_type": "stream",
     "text": [
      "WARNING:absl:You are saving your model as an HDF5 file via `model.save()` or `keras.saving.save_model(model)`. This file format is considered legacy. We recommend using instead the native Keras format, e.g. `model.save('my_model.keras')` or `keras.saving.save_model(model, 'my_model.keras')`. \n"
     ]
    },
    {
     "name": "stdout",
     "output_type": "stream",
     "text": [
      "\u001b[1m162/162\u001b[0m \u001b[32m━━━━━━━━━━━━━━━━━━━━\u001b[0m\u001b[37m\u001b[0m \u001b[1m112s\u001b[0m 691ms/step - accuracy: 0.9395 - loss: 0.1721 - val_accuracy: 0.9715 - val_loss: 0.0930 - learning_rate: 1.0000e-04\n",
      "Epoch 40/100\n",
      "\u001b[1m162/162\u001b[0m \u001b[32m━━━━━━━━━━━━━━━━━━━━\u001b[0m\u001b[37m\u001b[0m \u001b[1m0s\u001b[0m 625ms/step - accuracy: 0.9472 - loss: 0.1491\n",
      "Epoch 40: val_accuracy did not improve from 0.97145\n",
      "\u001b[1m162/162\u001b[0m \u001b[32m━━━━━━━━━━━━━━━━━━━━\u001b[0m\u001b[37m\u001b[0m \u001b[1m110s\u001b[0m 681ms/step - accuracy: 0.9472 - loss: 0.1491 - val_accuracy: 0.9699 - val_loss: 0.0909 - learning_rate: 1.0000e-04\n",
      "Epoch 41/100\n",
      "\u001b[1m162/162\u001b[0m \u001b[32m━━━━━━━━━━━━━━━━━━━━\u001b[0m\u001b[37m\u001b[0m \u001b[1m0s\u001b[0m 633ms/step - accuracy: 0.9427 - loss: 0.1571\n",
      "Epoch 41: val_accuracy improved from 0.97145 to 0.97377, saving model to stage2_tl_best_model_resnet.h5\n"
     ]
    },
    {
     "name": "stderr",
     "output_type": "stream",
     "text": [
      "WARNING:absl:You are saving your model as an HDF5 file via `model.save()` or `keras.saving.save_model(model)`. This file format is considered legacy. We recommend using instead the native Keras format, e.g. `model.save('my_model.keras')` or `keras.saving.save_model(model, 'my_model.keras')`. \n"
     ]
    },
    {
     "name": "stdout",
     "output_type": "stream",
     "text": [
      "\u001b[1m162/162\u001b[0m \u001b[32m━━━━━━━━━━━━━━━━━━━━\u001b[0m\u001b[37m\u001b[0m \u001b[1m112s\u001b[0m 694ms/step - accuracy: 0.9427 - loss: 0.1571 - val_accuracy: 0.9738 - val_loss: 0.0731 - learning_rate: 1.0000e-04\n",
      "Epoch 42/100\n",
      "\u001b[1m162/162\u001b[0m \u001b[32m━━━━━━━━━━━━━━━━━━━━\u001b[0m\u001b[37m\u001b[0m \u001b[1m0s\u001b[0m 634ms/step - accuracy: 0.9467 - loss: 0.1468\n",
      "Epoch 42: val_accuracy did not improve from 0.97377\n",
      "\u001b[1m162/162\u001b[0m \u001b[32m━━━━━━━━━━━━━━━━━━━━\u001b[0m\u001b[37m\u001b[0m \u001b[1m112s\u001b[0m 690ms/step - accuracy: 0.9467 - loss: 0.1468 - val_accuracy: 0.9730 - val_loss: 0.0877 - learning_rate: 1.0000e-04\n",
      "Epoch 43/100\n",
      "\u001b[1m162/162\u001b[0m \u001b[32m━━━━━━━━━━━━━━━━━━━━\u001b[0m\u001b[37m\u001b[0m \u001b[1m0s\u001b[0m 630ms/step - accuracy: 0.9501 - loss: 0.1419\n",
      "Epoch 43: val_accuracy did not improve from 0.97377\n",
      "\u001b[1m162/162\u001b[0m \u001b[32m━━━━━━━━━━━━━━━━━━━━\u001b[0m\u001b[37m\u001b[0m \u001b[1m111s\u001b[0m 685ms/step - accuracy: 0.9500 - loss: 0.1419 - val_accuracy: 0.9722 - val_loss: 0.0781 - learning_rate: 1.0000e-04\n",
      "Epoch 44/100\n",
      "\u001b[1m162/162\u001b[0m \u001b[32m━━━━━━━━━━━━━━━━━━━━\u001b[0m\u001b[37m\u001b[0m \u001b[1m0s\u001b[0m 637ms/step - accuracy: 0.9429 - loss: 0.1493\n",
      "Epoch 44: val_accuracy improved from 0.97377 to 0.97685, saving model to stage2_tl_best_model_resnet.h5\n"
     ]
    },
    {
     "name": "stderr",
     "output_type": "stream",
     "text": [
      "WARNING:absl:You are saving your model as an HDF5 file via `model.save()` or `keras.saving.save_model(model)`. This file format is considered legacy. We recommend using instead the native Keras format, e.g. `model.save('my_model.keras')` or `keras.saving.save_model(model, 'my_model.keras')`. \n"
     ]
    },
    {
     "name": "stdout",
     "output_type": "stream",
     "text": [
      "\u001b[1m162/162\u001b[0m \u001b[32m━━━━━━━━━━━━━━━━━━━━\u001b[0m\u001b[37m\u001b[0m \u001b[1m113s\u001b[0m 696ms/step - accuracy: 0.9429 - loss: 0.1493 - val_accuracy: 0.9769 - val_loss: 0.0924 - learning_rate: 1.0000e-04\n",
      "Epoch 45/100\n",
      "\u001b[1m162/162\u001b[0m \u001b[32m━━━━━━━━━━━━━━━━━━━━\u001b[0m\u001b[37m\u001b[0m \u001b[1m0s\u001b[0m 627ms/step - accuracy: 0.9464 - loss: 0.1437\n",
      "Epoch 45: val_accuracy did not improve from 0.97685\n",
      "\u001b[1m162/162\u001b[0m \u001b[32m━━━━━━━━━━━━━━━━━━━━\u001b[0m\u001b[37m\u001b[0m \u001b[1m111s\u001b[0m 682ms/step - accuracy: 0.9464 - loss: 0.1437 - val_accuracy: 0.9568 - val_loss: 0.1160 - learning_rate: 1.0000e-04\n",
      "Epoch 46/100\n",
      "\u001b[1m162/162\u001b[0m \u001b[32m━━━━━━━━━━━━━━━━━━━━\u001b[0m\u001b[37m\u001b[0m \u001b[1m0s\u001b[0m 627ms/step - accuracy: 0.9409 - loss: 0.1592\n",
      "Epoch 46: val_accuracy did not improve from 0.97685\n",
      "\u001b[1m162/162\u001b[0m \u001b[32m━━━━━━━━━━━━━━━━━━━━\u001b[0m\u001b[37m\u001b[0m \u001b[1m110s\u001b[0m 681ms/step - accuracy: 0.9409 - loss: 0.1591 - val_accuracy: 0.9591 - val_loss: 0.1086 - learning_rate: 1.0000e-04\n",
      "Epoch 47/100\n",
      "\u001b[1m162/162\u001b[0m \u001b[32m━━━━━━━━━━━━━━━━━━━━\u001b[0m\u001b[37m\u001b[0m \u001b[1m0s\u001b[0m 631ms/step - accuracy: 0.9449 - loss: 0.1503\n",
      "Epoch 47: val_accuracy did not improve from 0.97685\n",
      "\u001b[1m162/162\u001b[0m \u001b[32m━━━━━━━━━━━━━━━━━━━━\u001b[0m\u001b[37m\u001b[0m \u001b[1m112s\u001b[0m 690ms/step - accuracy: 0.9449 - loss: 0.1504 - val_accuracy: 0.9738 - val_loss: 0.0822 - learning_rate: 1.0000e-04\n",
      "Epoch 48/100\n",
      "\u001b[1m162/162\u001b[0m \u001b[32m━━━━━━━━━━━━━━━━━━━━\u001b[0m\u001b[37m\u001b[0m \u001b[1m0s\u001b[0m 635ms/step - accuracy: 0.9477 - loss: 0.1458\n",
      "Epoch 48: val_accuracy did not improve from 0.97685\n",
      "\u001b[1m162/162\u001b[0m \u001b[32m━━━━━━━━━━━━━━━━━━━━\u001b[0m\u001b[37m\u001b[0m \u001b[1m112s\u001b[0m 694ms/step - accuracy: 0.9477 - loss: 0.1457 - val_accuracy: 0.9699 - val_loss: 0.0703 - learning_rate: 1.0000e-04\n",
      "Epoch 49/100\n",
      "\u001b[1m162/162\u001b[0m \u001b[32m━━━━━━━━━━━━━━━━━━━━\u001b[0m\u001b[37m\u001b[0m \u001b[1m0s\u001b[0m 623ms/step - accuracy: 0.9535 - loss: 0.1491\n",
      "Epoch 49: val_accuracy did not improve from 0.97685\n",
      "\u001b[1m162/162\u001b[0m \u001b[32m━━━━━━━━━━━━━━━━━━━━\u001b[0m\u001b[37m\u001b[0m \u001b[1m110s\u001b[0m 678ms/step - accuracy: 0.9535 - loss: 0.1491 - val_accuracy: 0.9699 - val_loss: 0.0792 - learning_rate: 1.0000e-04\n",
      "Epoch 50/100\n",
      "\u001b[1m162/162\u001b[0m \u001b[32m━━━━━━━━━━━━━━━━━━━━\u001b[0m\u001b[37m\u001b[0m \u001b[1m0s\u001b[0m 631ms/step - accuracy: 0.9476 - loss: 0.1382\n",
      "Epoch 50: val_accuracy did not improve from 0.97685\n",
      "\u001b[1m162/162\u001b[0m \u001b[32m━━━━━━━━━━━━━━━━━━━━\u001b[0m\u001b[37m\u001b[0m \u001b[1m111s\u001b[0m 685ms/step - accuracy: 0.9476 - loss: 0.1383 - val_accuracy: 0.9745 - val_loss: 0.0798 - learning_rate: 1.0000e-04\n",
      "Epoch 51/100\n",
      "\u001b[1m162/162\u001b[0m \u001b[32m━━━━━━━━━━━━━━━━━━━━\u001b[0m\u001b[37m\u001b[0m \u001b[1m0s\u001b[0m 633ms/step - accuracy: 0.9499 - loss: 0.1399\n",
      "Epoch 51: val_accuracy did not improve from 0.97685\n",
      "\u001b[1m162/162\u001b[0m \u001b[32m━━━━━━━━━━━━━━━━━━━━\u001b[0m\u001b[37m\u001b[0m \u001b[1m111s\u001b[0m 688ms/step - accuracy: 0.9499 - loss: 0.1399 - val_accuracy: 0.9715 - val_loss: 0.0802 - learning_rate: 1.0000e-04\n",
      "Epoch 52/100\n",
      "\u001b[1m162/162\u001b[0m \u001b[32m━━━━━━━━━━━━━━━━━━━━\u001b[0m\u001b[37m\u001b[0m \u001b[1m0s\u001b[0m 631ms/step - accuracy: 0.9491 - loss: 0.1266\n",
      "Epoch 52: val_accuracy did not improve from 0.97685\n",
      "\u001b[1m162/162\u001b[0m \u001b[32m━━━━━━━━━━━━━━━━━━━━\u001b[0m\u001b[37m\u001b[0m \u001b[1m112s\u001b[0m 689ms/step - accuracy: 0.9491 - loss: 0.1266 - val_accuracy: 0.9753 - val_loss: 0.0731 - learning_rate: 1.0000e-04\n",
      "Epoch 53/100\n",
      "\u001b[1m162/162\u001b[0m \u001b[32m━━━━━━━━━━━━━━━━━━━━\u001b[0m\u001b[37m\u001b[0m \u001b[1m0s\u001b[0m 633ms/step - accuracy: 0.9460 - loss: 0.1353\n",
      "Epoch 53: val_accuracy did not improve from 0.97685\n",
      "\u001b[1m162/162\u001b[0m \u001b[32m━━━━━━━━━━━━━━━━━━━━\u001b[0m\u001b[37m\u001b[0m \u001b[1m111s\u001b[0m 688ms/step - accuracy: 0.9460 - loss: 0.1354 - val_accuracy: 0.9715 - val_loss: 0.0939 - learning_rate: 1.0000e-04\n",
      "Epoch 54/100\n",
      "\u001b[1m162/162\u001b[0m \u001b[32m━━━━━━━━━━━━━━━━━━━━\u001b[0m\u001b[37m\u001b[0m \u001b[1m0s\u001b[0m 630ms/step - accuracy: 0.9443 - loss: 0.1343\n",
      "Epoch 54: val_accuracy did not improve from 0.97685\n",
      "\u001b[1m162/162\u001b[0m \u001b[32m━━━━━━━━━━━━━━━━━━━━\u001b[0m\u001b[37m\u001b[0m \u001b[1m111s\u001b[0m 686ms/step - accuracy: 0.9443 - loss: 0.1343 - val_accuracy: 0.9414 - val_loss: 0.1222 - learning_rate: 1.0000e-04\n",
      "Epoch 55/100\n",
      "\u001b[1m162/162\u001b[0m \u001b[32m━━━━━━━━━━━━━━━━━━━━\u001b[0m\u001b[37m\u001b[0m \u001b[1m0s\u001b[0m 629ms/step - accuracy: 0.9433 - loss: 0.1453\n",
      "Epoch 55: val_accuracy improved from 0.97685 to 0.97917, saving model to stage2_tl_best_model_resnet.h5\n"
     ]
    },
    {
     "name": "stderr",
     "output_type": "stream",
     "text": [
      "WARNING:absl:You are saving your model as an HDF5 file via `model.save()` or `keras.saving.save_model(model)`. This file format is considered legacy. We recommend using instead the native Keras format, e.g. `model.save('my_model.keras')` or `keras.saving.save_model(model, 'my_model.keras')`. \n"
     ]
    },
    {
     "name": "stdout",
     "output_type": "stream",
     "text": [
      "\u001b[1m162/162\u001b[0m \u001b[32m━━━━━━━━━━━━━━━━━━━━\u001b[0m\u001b[37m\u001b[0m \u001b[1m112s\u001b[0m 690ms/step - accuracy: 0.9433 - loss: 0.1453 - val_accuracy: 0.9792 - val_loss: 0.0684 - learning_rate: 1.0000e-04\n",
      "Epoch 56/100\n",
      "\u001b[1m162/162\u001b[0m \u001b[32m━━━━━━━━━━━━━━━━━━━━\u001b[0m\u001b[37m\u001b[0m \u001b[1m0s\u001b[0m 629ms/step - accuracy: 0.9515 - loss: 0.1421\n",
      "Epoch 56: val_accuracy did not improve from 0.97917\n",
      "\u001b[1m162/162\u001b[0m \u001b[32m━━━━━━━━━━━━━━━━━━━━\u001b[0m\u001b[37m\u001b[0m \u001b[1m111s\u001b[0m 684ms/step - accuracy: 0.9515 - loss: 0.1421 - val_accuracy: 0.9745 - val_loss: 0.0827 - learning_rate: 1.0000e-04\n",
      "Epoch 57/100\n",
      "\u001b[1m162/162\u001b[0m \u001b[32m━━━━━━━━━━━━━━━━━━━━\u001b[0m\u001b[37m\u001b[0m \u001b[1m0s\u001b[0m 632ms/step - accuracy: 0.9522 - loss: 0.1269\n",
      "Epoch 57: val_accuracy did not improve from 0.97917\n",
      "\u001b[1m162/162\u001b[0m \u001b[32m━━━━━━━━━━━━━━━━━━━━\u001b[0m\u001b[37m\u001b[0m \u001b[1m111s\u001b[0m 688ms/step - accuracy: 0.9522 - loss: 0.1269 - val_accuracy: 0.9792 - val_loss: 0.0731 - learning_rate: 1.0000e-04\n",
      "Epoch 58/100\n",
      "\u001b[1m162/162\u001b[0m \u001b[32m━━━━━━━━━━━━━━━━━━━━\u001b[0m\u001b[37m\u001b[0m \u001b[1m0s\u001b[0m 646ms/step - accuracy: 0.9553 - loss: 0.1266\n",
      "Epoch 58: val_accuracy did not improve from 0.97917\n",
      "\u001b[1m162/162\u001b[0m \u001b[32m━━━━━━━━━━━━━━━━━━━━\u001b[0m\u001b[37m\u001b[0m \u001b[1m114s\u001b[0m 701ms/step - accuracy: 0.9553 - loss: 0.1266 - val_accuracy: 0.9529 - val_loss: 0.1079 - learning_rate: 1.0000e-04\n",
      "Epoch 59/100\n",
      "\u001b[1m162/162\u001b[0m \u001b[32m━━━━━━━━━━━━━━━━━━━━\u001b[0m\u001b[37m\u001b[0m \u001b[1m0s\u001b[0m 647ms/step - accuracy: 0.9486 - loss: 0.1446\n",
      "Epoch 59: val_accuracy improved from 0.97917 to 0.98148, saving model to stage2_tl_best_model_resnet.h5\n"
     ]
    },
    {
     "name": "stderr",
     "output_type": "stream",
     "text": [
      "WARNING:absl:You are saving your model as an HDF5 file via `model.save()` or `keras.saving.save_model(model)`. This file format is considered legacy. We recommend using instead the native Keras format, e.g. `model.save('my_model.keras')` or `keras.saving.save_model(model, 'my_model.keras')`. \n"
     ]
    },
    {
     "name": "stdout",
     "output_type": "stream",
     "text": [
      "\u001b[1m162/162\u001b[0m \u001b[32m━━━━━━━━━━━━━━━━━━━━\u001b[0m\u001b[37m\u001b[0m \u001b[1m115s\u001b[0m 711ms/step - accuracy: 0.9486 - loss: 0.1447 - val_accuracy: 0.9815 - val_loss: 0.0735 - learning_rate: 1.0000e-04\n",
      "Epoch 60/100\n",
      "\u001b[1m162/162\u001b[0m \u001b[32m━━━━━━━━━━━━━━━━━━━━\u001b[0m\u001b[37m\u001b[0m \u001b[1m0s\u001b[0m 632ms/step - accuracy: 0.9508 - loss: 0.1351\n",
      "Epoch 60: val_accuracy did not improve from 0.98148\n",
      "\u001b[1m162/162\u001b[0m \u001b[32m━━━━━━━━━━━━━━━━━━━━\u001b[0m\u001b[37m\u001b[0m \u001b[1m112s\u001b[0m 689ms/step - accuracy: 0.9508 - loss: 0.1351 - val_accuracy: 0.9753 - val_loss: 0.0857 - learning_rate: 1.0000e-04\n",
      "Epoch 61/100\n",
      "\u001b[1m162/162\u001b[0m \u001b[32m━━━━━━━━━━━━━━━━━━━━\u001b[0m\u001b[37m\u001b[0m \u001b[1m0s\u001b[0m 628ms/step - accuracy: 0.9541 - loss: 0.1251\n",
      "Epoch 61: val_accuracy did not improve from 0.98148\n",
      "\u001b[1m162/162\u001b[0m \u001b[32m━━━━━━━━━━━━━━━━━━━━\u001b[0m\u001b[37m\u001b[0m \u001b[1m111s\u001b[0m 683ms/step - accuracy: 0.9541 - loss: 0.1251 - val_accuracy: 0.9630 - val_loss: 0.0969 - learning_rate: 1.0000e-04\n",
      "Epoch 62/100\n",
      "\u001b[1m162/162\u001b[0m \u001b[32m━━━━━━━━━━━━━━━━━━━━\u001b[0m\u001b[37m\u001b[0m \u001b[1m0s\u001b[0m 631ms/step - accuracy: 0.9560 - loss: 0.1263\n",
      "Epoch 62: val_accuracy did not improve from 0.98148\n",
      "\n",
      "Epoch 62: ReduceLROnPlateau reducing learning rate to 4.999999873689376e-05.\n",
      "\u001b[1m162/162\u001b[0m \u001b[32m━━━━━━━━━━━━━━━━━━━━\u001b[0m\u001b[37m\u001b[0m \u001b[1m111s\u001b[0m 685ms/step - accuracy: 0.9560 - loss: 0.1264 - val_accuracy: 0.9707 - val_loss: 0.0994 - learning_rate: 1.0000e-04\n",
      "Epoch 63/100\n",
      "\u001b[1m162/162\u001b[0m \u001b[32m━━━━━━━━━━━━━━━━━━━━\u001b[0m\u001b[37m\u001b[0m \u001b[1m0s\u001b[0m 632ms/step - accuracy: 0.9573 - loss: 0.1204\n",
      "Epoch 63: val_accuracy did not improve from 0.98148\n",
      "\u001b[1m162/162\u001b[0m \u001b[32m━━━━━━━━━━━━━━━━━━━━\u001b[0m\u001b[37m\u001b[0m \u001b[1m111s\u001b[0m 688ms/step - accuracy: 0.9573 - loss: 0.1203 - val_accuracy: 0.9722 - val_loss: 0.0794 - learning_rate: 5.0000e-05\n",
      "Epoch 64/100\n",
      "\u001b[1m162/162\u001b[0m \u001b[32m━━━━━━━━━━━━━━━━━━━━\u001b[0m\u001b[37m\u001b[0m \u001b[1m0s\u001b[0m 632ms/step - accuracy: 0.9604 - loss: 0.1083\n",
      "Epoch 64: val_accuracy did not improve from 0.98148\n",
      "\u001b[1m162/162\u001b[0m \u001b[32m━━━━━━━━━━━━━━━━━━━━\u001b[0m\u001b[37m\u001b[0m \u001b[1m112s\u001b[0m 691ms/step - accuracy: 0.9603 - loss: 0.1083 - val_accuracy: 0.9753 - val_loss: 0.0698 - learning_rate: 5.0000e-05\n",
      "Epoch 65/100\n",
      "\u001b[1m162/162\u001b[0m \u001b[32m━━━━━━━━━━━━━━━━━━━━\u001b[0m\u001b[37m\u001b[0m \u001b[1m0s\u001b[0m 634ms/step - accuracy: 0.9602 - loss: 0.0991\n",
      "Epoch 65: val_accuracy did not improve from 0.98148\n",
      "\u001b[1m162/162\u001b[0m \u001b[32m━━━━━━━━━━━━━━━━━━━━\u001b[0m\u001b[37m\u001b[0m \u001b[1m112s\u001b[0m 689ms/step - accuracy: 0.9602 - loss: 0.0991 - val_accuracy: 0.9799 - val_loss: 0.0545 - learning_rate: 5.0000e-05\n",
      "Epoch 66/100\n",
      "\u001b[1m162/162\u001b[0m \u001b[32m━━━━━━━━━━━━━━━━━━━━\u001b[0m\u001b[37m\u001b[0m \u001b[1m0s\u001b[0m 636ms/step - accuracy: 0.9616 - loss: 0.1008\n",
      "Epoch 66: val_accuracy did not improve from 0.98148\n",
      "\u001b[1m162/162\u001b[0m \u001b[32m━━━━━━━━━━━━━━━━━━━━\u001b[0m\u001b[37m\u001b[0m \u001b[1m112s\u001b[0m 693ms/step - accuracy: 0.9616 - loss: 0.1008 - val_accuracy: 0.9784 - val_loss: 0.0571 - learning_rate: 5.0000e-05\n",
      "Epoch 67/100\n",
      "\u001b[1m162/162\u001b[0m \u001b[32m━━━━━━━━━━━━━━━━━━━━\u001b[0m\u001b[37m\u001b[0m \u001b[1m0s\u001b[0m 656ms/step - accuracy: 0.9588 - loss: 0.1147\n",
      "Epoch 67: val_accuracy did not improve from 0.98148\n",
      "\u001b[1m162/162\u001b[0m \u001b[32m━━━━━━━━━━━━━━━━━━━━\u001b[0m\u001b[37m\u001b[0m \u001b[1m115s\u001b[0m 712ms/step - accuracy: 0.9589 - loss: 0.1146 - val_accuracy: 0.9815 - val_loss: 0.0534 - learning_rate: 5.0000e-05\n",
      "Epoch 68/100\n",
      "\u001b[1m162/162\u001b[0m \u001b[32m━━━━━━━━━━━━━━━━━━━━\u001b[0m\u001b[37m\u001b[0m \u001b[1m0s\u001b[0m 632ms/step - accuracy: 0.9657 - loss: 0.0918\n",
      "Epoch 68: val_accuracy improved from 0.98148 to 0.98302, saving model to stage2_tl_best_model_resnet.h5\n"
     ]
    },
    {
     "name": "stderr",
     "output_type": "stream",
     "text": [
      "WARNING:absl:You are saving your model as an HDF5 file via `model.save()` or `keras.saving.save_model(model)`. This file format is considered legacy. We recommend using instead the native Keras format, e.g. `model.save('my_model.keras')` or `keras.saving.save_model(model, 'my_model.keras')`. \n"
     ]
    },
    {
     "name": "stdout",
     "output_type": "stream",
     "text": [
      "\u001b[1m162/162\u001b[0m \u001b[32m━━━━━━━━━━━━━━━━━━━━\u001b[0m\u001b[37m\u001b[0m \u001b[1m112s\u001b[0m 690ms/step - accuracy: 0.9657 - loss: 0.0918 - val_accuracy: 0.9830 - val_loss: 0.0535 - learning_rate: 5.0000e-05\n",
      "Epoch 69/100\n",
      "\u001b[1m162/162\u001b[0m \u001b[32m━━━━━━━━━━━━━━━━━━━━\u001b[0m\u001b[37m\u001b[0m \u001b[1m0s\u001b[0m 633ms/step - accuracy: 0.9623 - loss: 0.0941\n",
      "Epoch 69: val_accuracy did not improve from 0.98302\n",
      "\u001b[1m162/162\u001b[0m \u001b[32m━━━━━━━━━━━━━━━━━━━━\u001b[0m\u001b[37m\u001b[0m \u001b[1m111s\u001b[0m 686ms/step - accuracy: 0.9623 - loss: 0.0941 - val_accuracy: 0.9807 - val_loss: 0.0555 - learning_rate: 5.0000e-05\n",
      "Epoch 70/100\n",
      "\u001b[1m162/162\u001b[0m \u001b[32m━━━━━━━━━━━━━━━━━━━━\u001b[0m\u001b[37m\u001b[0m \u001b[1m0s\u001b[0m 617ms/step - accuracy: 0.9661 - loss: 0.0931\n",
      "Epoch 70: val_accuracy did not improve from 0.98302\n",
      "\u001b[1m162/162\u001b[0m \u001b[32m━━━━━━━━━━━━━━━━━━━━\u001b[0m\u001b[37m\u001b[0m \u001b[1m108s\u001b[0m 670ms/step - accuracy: 0.9661 - loss: 0.0931 - val_accuracy: 0.9792 - val_loss: 0.0657 - learning_rate: 5.0000e-05\n",
      "Epoch 71/100\n",
      "\u001b[1m162/162\u001b[0m \u001b[32m━━━━━━━━━━━━━━━━━━━━\u001b[0m\u001b[37m\u001b[0m \u001b[1m0s\u001b[0m 636ms/step - accuracy: 0.9718 - loss: 0.0864\n",
      "Epoch 71: val_accuracy did not improve from 0.98302\n",
      "\u001b[1m162/162\u001b[0m \u001b[32m━━━━━━━━━━━━━━━━━━━━\u001b[0m\u001b[37m\u001b[0m \u001b[1m112s\u001b[0m 692ms/step - accuracy: 0.9717 - loss: 0.0863 - val_accuracy: 0.9830 - val_loss: 0.0524 - learning_rate: 5.0000e-05\n",
      "Epoch 72/100\n",
      "\u001b[1m162/162\u001b[0m \u001b[32m━━━━━━━━━━━━━━━━━━━━\u001b[0m\u001b[37m\u001b[0m \u001b[1m0s\u001b[0m 635ms/step - accuracy: 0.9672 - loss: 0.0996\n",
      "Epoch 72: val_accuracy improved from 0.98302 to 0.98380, saving model to stage2_tl_best_model_resnet.h5\n"
     ]
    },
    {
     "name": "stderr",
     "output_type": "stream",
     "text": [
      "WARNING:absl:You are saving your model as an HDF5 file via `model.save()` or `keras.saving.save_model(model)`. This file format is considered legacy. We recommend using instead the native Keras format, e.g. `model.save('my_model.keras')` or `keras.saving.save_model(model, 'my_model.keras')`. \n"
     ]
    },
    {
     "name": "stdout",
     "output_type": "stream",
     "text": [
      "\u001b[1m162/162\u001b[0m \u001b[32m━━━━━━━━━━━━━━━━━━━━\u001b[0m\u001b[37m\u001b[0m \u001b[1m112s\u001b[0m 692ms/step - accuracy: 0.9672 - loss: 0.0996 - val_accuracy: 0.9838 - val_loss: 0.0631 - learning_rate: 5.0000e-05\n",
      "Epoch 73/100\n",
      "\u001b[1m162/162\u001b[0m \u001b[32m━━━━━━━━━━━━━━━━━━━━\u001b[0m\u001b[37m\u001b[0m \u001b[1m0s\u001b[0m 633ms/step - accuracy: 0.9620 - loss: 0.1071\n",
      "Epoch 73: val_accuracy did not improve from 0.98380\n",
      "\u001b[1m162/162\u001b[0m \u001b[32m━━━━━━━━━━━━━━━━━━━━\u001b[0m\u001b[37m\u001b[0m \u001b[1m112s\u001b[0m 689ms/step - accuracy: 0.9620 - loss: 0.1070 - val_accuracy: 0.9792 - val_loss: 0.0625 - learning_rate: 5.0000e-05\n",
      "Epoch 74/100\n",
      "\u001b[1m162/162\u001b[0m \u001b[32m━━━━━━━━━━━━━━━━━━━━\u001b[0m\u001b[37m\u001b[0m \u001b[1m0s\u001b[0m 631ms/step - accuracy: 0.9593 - loss: 0.1101\n",
      "Epoch 74: val_accuracy did not improve from 0.98380\n",
      "\u001b[1m162/162\u001b[0m \u001b[32m━━━━━━━━━━━━━━━━━━━━\u001b[0m\u001b[37m\u001b[0m \u001b[1m111s\u001b[0m 686ms/step - accuracy: 0.9593 - loss: 0.1101 - val_accuracy: 0.9761 - val_loss: 0.0662 - learning_rate: 5.0000e-05\n",
      "Epoch 75/100\n",
      "\u001b[1m162/162\u001b[0m \u001b[32m━━━━━━━━━━━━━━━━━━━━\u001b[0m\u001b[37m\u001b[0m \u001b[1m0s\u001b[0m 635ms/step - accuracy: 0.9654 - loss: 0.0931\n",
      "Epoch 75: val_accuracy did not improve from 0.98380\n",
      "\u001b[1m162/162\u001b[0m \u001b[32m━━━━━━━━━━━━━━━━━━━━\u001b[0m\u001b[37m\u001b[0m \u001b[1m112s\u001b[0m 691ms/step - accuracy: 0.9654 - loss: 0.0931 - val_accuracy: 0.9815 - val_loss: 0.0535 - learning_rate: 5.0000e-05\n",
      "Epoch 76/100\n",
      "\u001b[1m162/162\u001b[0m \u001b[32m━━━━━━━━━━━━━━━━━━━━\u001b[0m\u001b[37m\u001b[0m \u001b[1m0s\u001b[0m 632ms/step - accuracy: 0.9705 - loss: 0.0884\n",
      "Epoch 76: val_accuracy did not improve from 0.98380\n",
      "\u001b[1m162/162\u001b[0m \u001b[32m━━━━━━━━━━━━━━━━━━━━\u001b[0m\u001b[37m\u001b[0m \u001b[1m112s\u001b[0m 689ms/step - accuracy: 0.9706 - loss: 0.0884 - val_accuracy: 0.9799 - val_loss: 0.0516 - learning_rate: 5.0000e-05\n",
      "Epoch 77/100\n",
      "\u001b[1m162/162\u001b[0m \u001b[32m━━━━━━━━━━━━━━━━━━━━\u001b[0m\u001b[37m\u001b[0m \u001b[1m0s\u001b[0m 637ms/step - accuracy: 0.9668 - loss: 0.0854\n",
      "Epoch 77: val_accuracy did not improve from 0.98380\n",
      "\u001b[1m162/162\u001b[0m \u001b[32m━━━━━━━━━━━━━━━━━━━━\u001b[0m\u001b[37m\u001b[0m \u001b[1m112s\u001b[0m 691ms/step - accuracy: 0.9668 - loss: 0.0854 - val_accuracy: 0.9776 - val_loss: 0.0602 - learning_rate: 5.0000e-05\n",
      "Epoch 78/100\n",
      "\u001b[1m162/162\u001b[0m \u001b[32m━━━━━━━━━━━━━━━━━━━━\u001b[0m\u001b[37m\u001b[0m \u001b[1m0s\u001b[0m 635ms/step - accuracy: 0.9724 - loss: 0.0883\n",
      "Epoch 78: val_accuracy did not improve from 0.98380\n",
      "\u001b[1m162/162\u001b[0m \u001b[32m━━━━━━━━━━━━━━━━━━━━\u001b[0m\u001b[37m\u001b[0m \u001b[1m112s\u001b[0m 689ms/step - accuracy: 0.9723 - loss: 0.0884 - val_accuracy: 0.9830 - val_loss: 0.0547 - learning_rate: 5.0000e-05\n",
      "Epoch 79/100\n",
      "\u001b[1m162/162\u001b[0m \u001b[32m━━━━━━━━━━━━━━━━━━━━\u001b[0m\u001b[37m\u001b[0m \u001b[1m0s\u001b[0m 631ms/step - accuracy: 0.9655 - loss: 0.0924\n",
      "Epoch 79: val_accuracy improved from 0.98380 to 0.98611, saving model to stage2_tl_best_model_resnet.h5\n"
     ]
    },
    {
     "name": "stderr",
     "output_type": "stream",
     "text": [
      "WARNING:absl:You are saving your model as an HDF5 file via `model.save()` or `keras.saving.save_model(model)`. This file format is considered legacy. We recommend using instead the native Keras format, e.g. `model.save('my_model.keras')` or `keras.saving.save_model(model, 'my_model.keras')`. \n"
     ]
    },
    {
     "name": "stdout",
     "output_type": "stream",
     "text": [
      "\u001b[1m162/162\u001b[0m \u001b[32m━━━━━━━━━━━━━━━━━━━━\u001b[0m\u001b[37m\u001b[0m \u001b[1m112s\u001b[0m 692ms/step - accuracy: 0.9655 - loss: 0.0924 - val_accuracy: 0.9861 - val_loss: 0.0547 - learning_rate: 5.0000e-05\n",
      "Epoch 80/100\n",
      "\u001b[1m162/162\u001b[0m \u001b[32m━━━━━━━━━━━━━━━━━━━━\u001b[0m\u001b[37m\u001b[0m \u001b[1m0s\u001b[0m 636ms/step - accuracy: 0.9711 - loss: 0.0983\n",
      "Epoch 80: val_accuracy did not improve from 0.98611\n",
      "\u001b[1m162/162\u001b[0m \u001b[32m━━━━━━━━━━━━━━━━━━━━\u001b[0m\u001b[37m\u001b[0m \u001b[1m112s\u001b[0m 691ms/step - accuracy: 0.9711 - loss: 0.0982 - val_accuracy: 0.9846 - val_loss: 0.0537 - learning_rate: 5.0000e-05\n",
      "Epoch 81/100\n",
      "\u001b[1m162/162\u001b[0m \u001b[32m━━━━━━━━━━━━━━━━━━━━\u001b[0m\u001b[37m\u001b[0m \u001b[1m0s\u001b[0m 634ms/step - accuracy: 0.9702 - loss: 0.0830\n",
      "Epoch 81: val_accuracy did not improve from 0.98611\n",
      "\u001b[1m162/162\u001b[0m \u001b[32m━━━━━━━━━━━━━━━━━━━━\u001b[0m\u001b[37m\u001b[0m \u001b[1m112s\u001b[0m 689ms/step - accuracy: 0.9702 - loss: 0.0830 - val_accuracy: 0.9738 - val_loss: 0.0774 - learning_rate: 5.0000e-05\n",
      "Epoch 82/100\n",
      "\u001b[1m162/162\u001b[0m \u001b[32m━━━━━━━━━━━━━━━━━━━━\u001b[0m\u001b[37m\u001b[0m \u001b[1m0s\u001b[0m 641ms/step - accuracy: 0.9659 - loss: 0.0980\n",
      "Epoch 82: val_accuracy did not improve from 0.98611\n",
      "\u001b[1m162/162\u001b[0m \u001b[32m━━━━━━━━━━━━━━━━━━━━\u001b[0m\u001b[37m\u001b[0m \u001b[1m113s\u001b[0m 699ms/step - accuracy: 0.9659 - loss: 0.0980 - val_accuracy: 0.9784 - val_loss: 0.0685 - learning_rate: 5.0000e-05\n",
      "Epoch 83/100\n",
      "\u001b[1m162/162\u001b[0m \u001b[32m━━━━━━━━━━━━━━━━━━━━\u001b[0m\u001b[37m\u001b[0m \u001b[1m0s\u001b[0m 656ms/step - accuracy: 0.9650 - loss: 0.0881\n",
      "Epoch 83: val_accuracy did not improve from 0.98611\n",
      "\n",
      "Epoch 83: ReduceLROnPlateau reducing learning rate to 2.499999936844688e-05.\n",
      "\u001b[1m162/162\u001b[0m \u001b[32m━━━━━━━━━━━━━━━━━━━━\u001b[0m\u001b[37m\u001b[0m \u001b[1m116s\u001b[0m 713ms/step - accuracy: 0.9650 - loss: 0.0881 - val_accuracy: 0.9838 - val_loss: 0.0528 - learning_rate: 5.0000e-05\n",
      "Epoch 84/100\n",
      "\u001b[1m162/162\u001b[0m \u001b[32m━━━━━━━━━━━━━━━━━━━━\u001b[0m\u001b[37m\u001b[0m \u001b[1m0s\u001b[0m 638ms/step - accuracy: 0.9663 - loss: 0.0935\n",
      "Epoch 84: val_accuracy did not improve from 0.98611\n",
      "\u001b[1m162/162\u001b[0m \u001b[32m━━━━━━━━━━━━━━━━━━━━\u001b[0m\u001b[37m\u001b[0m \u001b[1m112s\u001b[0m 694ms/step - accuracy: 0.9663 - loss: 0.0935 - val_accuracy: 0.9807 - val_loss: 0.0567 - learning_rate: 2.5000e-05\n",
      "Epoch 85/100\n",
      "\u001b[1m162/162\u001b[0m \u001b[32m━━━━━━━━━━━━━━━━━━━━\u001b[0m\u001b[37m\u001b[0m \u001b[1m0s\u001b[0m 631ms/step - accuracy: 0.9665 - loss: 0.0945\n",
      "Epoch 85: val_accuracy did not improve from 0.98611\n",
      "\u001b[1m162/162\u001b[0m \u001b[32m━━━━━━━━━━━━━━━━━━━━\u001b[0m\u001b[37m\u001b[0m \u001b[1m111s\u001b[0m 687ms/step - accuracy: 0.9665 - loss: 0.0945 - val_accuracy: 0.9830 - val_loss: 0.0497 - learning_rate: 2.5000e-05\n",
      "Epoch 86/100\n",
      "\u001b[1m162/162\u001b[0m \u001b[32m━━━━━━━━━━━━━━━━━━━━\u001b[0m\u001b[37m\u001b[0m \u001b[1m0s\u001b[0m 631ms/step - accuracy: 0.9729 - loss: 0.0753\n",
      "Epoch 86: val_accuracy did not improve from 0.98611\n",
      "\u001b[1m162/162\u001b[0m \u001b[32m━━━━━━━━━━━━━━━━━━━━\u001b[0m\u001b[37m\u001b[0m \u001b[1m111s\u001b[0m 687ms/step - accuracy: 0.9728 - loss: 0.0753 - val_accuracy: 0.9838 - val_loss: 0.0580 - learning_rate: 2.5000e-05\n",
      "Epoch 87/100\n",
      "\u001b[1m162/162\u001b[0m \u001b[32m━━━━━━━━━━━━━━━━━━━━\u001b[0m\u001b[37m\u001b[0m \u001b[1m0s\u001b[0m 635ms/step - accuracy: 0.9714 - loss: 0.0866\n",
      "Epoch 87: val_accuracy did not improve from 0.98611\n",
      "\u001b[1m162/162\u001b[0m \u001b[32m━━━━━━━━━━━━━━━━━━━━\u001b[0m\u001b[37m\u001b[0m \u001b[1m112s\u001b[0m 689ms/step - accuracy: 0.9714 - loss: 0.0866 - val_accuracy: 0.9838 - val_loss: 0.0503 - learning_rate: 2.5000e-05\n",
      "Epoch 88/100\n",
      "\u001b[1m162/162\u001b[0m \u001b[32m━━━━━━━━━━━━━━━━━━━━\u001b[0m\u001b[37m\u001b[0m \u001b[1m0s\u001b[0m 635ms/step - accuracy: 0.9708 - loss: 0.0793\n",
      "Epoch 88: val_accuracy did not improve from 0.98611\n",
      "\u001b[1m162/162\u001b[0m \u001b[32m━━━━━━━━━━━━━━━━━━━━\u001b[0m\u001b[37m\u001b[0m \u001b[1m112s\u001b[0m 690ms/step - accuracy: 0.9708 - loss: 0.0793 - val_accuracy: 0.9823 - val_loss: 0.0524 - learning_rate: 2.5000e-05\n",
      "Epoch 89/100\n",
      "\u001b[1m162/162\u001b[0m \u001b[32m━━━━━━━━━━━━━━━━━━━━\u001b[0m\u001b[37m\u001b[0m \u001b[1m0s\u001b[0m 633ms/step - accuracy: 0.9711 - loss: 0.0835\n",
      "Epoch 89: val_accuracy did not improve from 0.98611\n",
      "\u001b[1m162/162\u001b[0m \u001b[32m━━━━━━━━━━━━━━━━━━━━\u001b[0m\u001b[37m\u001b[0m \u001b[1m112s\u001b[0m 690ms/step - accuracy: 0.9711 - loss: 0.0835 - val_accuracy: 0.9846 - val_loss: 0.0511 - learning_rate: 2.5000e-05\n",
      "Epoch 90/100\n",
      "\u001b[1m162/162\u001b[0m \u001b[32m━━━━━━━━━━━━━━━━━━━━\u001b[0m\u001b[37m\u001b[0m \u001b[1m0s\u001b[0m 641ms/step - accuracy: 0.9686 - loss: 0.0855\n",
      "Epoch 90: val_accuracy did not improve from 0.98611\n",
      "\u001b[1m162/162\u001b[0m \u001b[32m━━━━━━━━━━━━━━━━━━━━\u001b[0m\u001b[37m\u001b[0m \u001b[1m113s\u001b[0m 696ms/step - accuracy: 0.9686 - loss: 0.0855 - val_accuracy: 0.9838 - val_loss: 0.0506 - learning_rate: 2.5000e-05\n",
      "Epoch 91/100\n",
      "\u001b[1m162/162\u001b[0m \u001b[32m━━━━━━━━━━━━━━━━━━━━\u001b[0m\u001b[37m\u001b[0m \u001b[1m0s\u001b[0m 637ms/step - accuracy: 0.9751 - loss: 0.0752\n",
      "Epoch 91: val_accuracy did not improve from 0.98611\n",
      "\u001b[1m162/162\u001b[0m \u001b[32m━━━━━━━━━━━━━━━━━━━━\u001b[0m\u001b[37m\u001b[0m \u001b[1m112s\u001b[0m 692ms/step - accuracy: 0.9751 - loss: 0.0752 - val_accuracy: 0.9846 - val_loss: 0.0458 - learning_rate: 2.5000e-05\n",
      "Epoch 92/100\n",
      "\u001b[1m162/162\u001b[0m \u001b[32m━━━━━━━━━━━━━━━━━━━━\u001b[0m\u001b[37m\u001b[0m \u001b[1m0s\u001b[0m 631ms/step - accuracy: 0.9721 - loss: 0.0728\n",
      "Epoch 92: val_accuracy did not improve from 0.98611\n",
      "\u001b[1m162/162\u001b[0m \u001b[32m━━━━━━━━━━━━━━━━━━━━\u001b[0m\u001b[37m\u001b[0m \u001b[1m111s\u001b[0m 688ms/step - accuracy: 0.9721 - loss: 0.0728 - val_accuracy: 0.9861 - val_loss: 0.0474 - learning_rate: 2.5000e-05\n",
      "Epoch 93/100\n",
      "\u001b[1m162/162\u001b[0m \u001b[32m━━━━━━━━━━━━━━━━━━━━\u001b[0m\u001b[37m\u001b[0m \u001b[1m0s\u001b[0m 633ms/step - accuracy: 0.9726 - loss: 0.0789\n",
      "Epoch 93: val_accuracy did not improve from 0.98611\n",
      "\u001b[1m162/162\u001b[0m \u001b[32m━━━━━━━━━━━━━━━━━━━━\u001b[0m\u001b[37m\u001b[0m \u001b[1m111s\u001b[0m 688ms/step - accuracy: 0.9726 - loss: 0.0789 - val_accuracy: 0.9846 - val_loss: 0.0483 - learning_rate: 2.5000e-05\n",
      "Epoch 94/100\n",
      "\u001b[1m162/162\u001b[0m \u001b[32m━━━━━━━━━━━━━━━━━━━━\u001b[0m\u001b[37m\u001b[0m \u001b[1m0s\u001b[0m 633ms/step - accuracy: 0.9743 - loss: 0.0749\n",
      "Epoch 94: val_accuracy did not improve from 0.98611\n",
      "\u001b[1m162/162\u001b[0m \u001b[32m━━━━━━━━━━━━━━━━━━━━\u001b[0m\u001b[37m\u001b[0m \u001b[1m112s\u001b[0m 690ms/step - accuracy: 0.9743 - loss: 0.0749 - val_accuracy: 0.9861 - val_loss: 0.0442 - learning_rate: 2.5000e-05\n",
      "Epoch 95/100\n",
      "\u001b[1m162/162\u001b[0m \u001b[32m━━━━━━━━━━━━━━━━━━━━\u001b[0m\u001b[37m\u001b[0m \u001b[1m0s\u001b[0m 655ms/step - accuracy: 0.9692 - loss: 0.0911\n",
      "Epoch 95: val_accuracy did not improve from 0.98611\n",
      "\u001b[1m162/162\u001b[0m \u001b[32m━━━━━━━━━━━━━━━━━━━━\u001b[0m\u001b[37m\u001b[0m \u001b[1m115s\u001b[0m 708ms/step - accuracy: 0.9692 - loss: 0.0911 - val_accuracy: 0.9815 - val_loss: 0.0622 - learning_rate: 2.5000e-05\n",
      "Epoch 96/100\n",
      "\u001b[1m162/162\u001b[0m \u001b[32m━━━━━━━━━━━━━━━━━━━━\u001b[0m\u001b[37m\u001b[0m \u001b[1m0s\u001b[0m 636ms/step - accuracy: 0.9734 - loss: 0.0728\n",
      "Epoch 96: val_accuracy improved from 0.98611 to 0.98688, saving model to stage2_tl_best_model_resnet.h5\n"
     ]
    },
    {
     "name": "stderr",
     "output_type": "stream",
     "text": [
      "WARNING:absl:You are saving your model as an HDF5 file via `model.save()` or `keras.saving.save_model(model)`. This file format is considered legacy. We recommend using instead the native Keras format, e.g. `model.save('my_model.keras')` or `keras.saving.save_model(model, 'my_model.keras')`. \n"
     ]
    },
    {
     "name": "stdout",
     "output_type": "stream",
     "text": [
      "\u001b[1m162/162\u001b[0m \u001b[32m━━━━━━━━━━━━━━━━━━━━\u001b[0m\u001b[37m\u001b[0m \u001b[1m113s\u001b[0m 700ms/step - accuracy: 0.9734 - loss: 0.0728 - val_accuracy: 0.9869 - val_loss: 0.0417 - learning_rate: 2.5000e-05\n",
      "Epoch 97/100\n",
      "\u001b[1m162/162\u001b[0m \u001b[32m━━━━━━━━━━━━━━━━━━━━\u001b[0m\u001b[37m\u001b[0m \u001b[1m0s\u001b[0m 631ms/step - accuracy: 0.9697 - loss: 0.0745\n",
      "Epoch 97: val_accuracy did not improve from 0.98688\n",
      "\u001b[1m162/162\u001b[0m \u001b[32m━━━━━━━━━━━━━━━━━━━━\u001b[0m\u001b[37m\u001b[0m \u001b[1m111s\u001b[0m 688ms/step - accuracy: 0.9697 - loss: 0.0745 - val_accuracy: 0.9846 - val_loss: 0.0456 - learning_rate: 2.5000e-05\n",
      "Epoch 98/100\n",
      "\u001b[1m162/162\u001b[0m \u001b[32m━━━━━━━━━━━━━━━━━━━━\u001b[0m\u001b[37m\u001b[0m \u001b[1m0s\u001b[0m 641ms/step - accuracy: 0.9704 - loss: 0.0880\n",
      "Epoch 98: val_accuracy improved from 0.98688 to 0.98843, saving model to stage2_tl_best_model_resnet.h5\n"
     ]
    },
    {
     "name": "stderr",
     "output_type": "stream",
     "text": [
      "WARNING:absl:You are saving your model as an HDF5 file via `model.save()` or `keras.saving.save_model(model)`. This file format is considered legacy. We recommend using instead the native Keras format, e.g. `model.save('my_model.keras')` or `keras.saving.save_model(model, 'my_model.keras')`. \n"
     ]
    },
    {
     "name": "stdout",
     "output_type": "stream",
     "text": [
      "\u001b[1m162/162\u001b[0m \u001b[32m━━━━━━━━━━━━━━━━━━━━\u001b[0m\u001b[37m\u001b[0m \u001b[1m113s\u001b[0m 699ms/step - accuracy: 0.9704 - loss: 0.0880 - val_accuracy: 0.9884 - val_loss: 0.0451 - learning_rate: 2.5000e-05\n",
      "Epoch 99/100\n",
      "\u001b[1m162/162\u001b[0m \u001b[32m━━━━━━━━━━━━━━━━━━━━\u001b[0m\u001b[37m\u001b[0m \u001b[1m0s\u001b[0m 631ms/step - accuracy: 0.9778 - loss: 0.0795\n",
      "Epoch 99: val_accuracy did not improve from 0.98843\n",
      "\u001b[1m162/162\u001b[0m \u001b[32m━━━━━━━━━━━━━━━━━━━━\u001b[0m\u001b[37m\u001b[0m \u001b[1m111s\u001b[0m 686ms/step - accuracy: 0.9777 - loss: 0.0795 - val_accuracy: 0.9846 - val_loss: 0.0495 - learning_rate: 2.5000e-05\n",
      "Epoch 100/100\n",
      "\u001b[1m162/162\u001b[0m \u001b[32m━━━━━━━━━━━━━━━━━━━━\u001b[0m\u001b[37m\u001b[0m \u001b[1m0s\u001b[0m 635ms/step - accuracy: 0.9657 - loss: 0.0935\n",
      "Epoch 100: val_accuracy did not improve from 0.98843\n",
      "\u001b[1m162/162\u001b[0m \u001b[32m━━━━━━━━━━━━━━━━━━━━\u001b[0m\u001b[37m\u001b[0m \u001b[1m112s\u001b[0m 689ms/step - accuracy: 0.9658 - loss: 0.0935 - val_accuracy: 0.9853 - val_loss: 0.0454 - learning_rate: 2.5000e-05\n",
      "Restoring model weights from the end of the best epoch: 96.\n",
      "\n",
      "--- Stage 2 전이 학습 모델 학습 완료 ---\n",
      "------------------------------\n",
      "\n",
      "--- 6. 모델 평가 시작 ---\n",
      "\n",
      "--- Stage 1 TL (ResNet) 모델 테스트 세트 평가 ---\n",
      "\u001b[1m48/48\u001b[0m \u001b[32m━━━━━━━━━━━━━━━━━━━━\u001b[0m\u001b[37m\u001b[0m \u001b[1m11s\u001b[0m 222ms/step - accuracy: 0.9690 - loss: 0.0851\n",
      "Stage 1 TL (ResNet) Test Loss: 0.0784, Test Accuracy: 0.9746\n",
      "\u001b[1m48/48\u001b[0m \u001b[32m━━━━━━━━━━━━━━━━━━━━\u001b[0m\u001b[37m\u001b[0m \u001b[1m13s\u001b[0m 212ms/step\n",
      "\n",
      "--- Stage 1 TL (ResNet) 분류 리포트 ---\n",
      "              precision    recall  f1-score   support\n",
      "\n",
      "    Abnormal       1.00      0.96      0.98       884\n",
      "      Normal       0.95      1.00      0.97       652\n",
      "\n",
      "    accuracy                           0.97      1536\n",
      "   macro avg       0.97      0.98      0.97      1536\n",
      "weighted avg       0.98      0.97      0.97      1536\n",
      "\n",
      "\n",
      "--- Stage 1 TL (ResNet) 혼동 행렬 ---\n"
     ]
    },
    {
     "name": "stderr",
     "output_type": "stream",
     "text": [
      "/Users/pjh_air/miniconda3/envs/bearing_env/lib/python3.10/site-packages/IPython/core/pylabtools.py:170: UserWarning: Glyph 49892 (\\N{HANGUL SYLLABLE SIL}) missing from font(s) DejaVu Sans.\n",
      "  fig.canvas.print_figure(bytes_io, **kw)\n",
      "/Users/pjh_air/miniconda3/envs/bearing_env/lib/python3.10/site-packages/IPython/core/pylabtools.py:170: UserWarning: Glyph 51228 (\\N{HANGUL SYLLABLE JE}) missing from font(s) DejaVu Sans.\n",
      "  fig.canvas.print_figure(bytes_io, **kw)\n",
      "/Users/pjh_air/miniconda3/envs/bearing_env/lib/python3.10/site-packages/IPython/core/pylabtools.py:170: UserWarning: Glyph 47112 (\\N{HANGUL SYLLABLE RE}) missing from font(s) DejaVu Sans.\n",
      "  fig.canvas.print_figure(bytes_io, **kw)\n",
      "/Users/pjh_air/miniconda3/envs/bearing_env/lib/python3.10/site-packages/IPython/core/pylabtools.py:170: UserWarning: Glyph 51060 (\\N{HANGUL SYLLABLE I}) missing from font(s) DejaVu Sans.\n",
      "  fig.canvas.print_figure(bytes_io, **kw)\n",
      "/Users/pjh_air/miniconda3/envs/bearing_env/lib/python3.10/site-packages/IPython/core/pylabtools.py:170: UserWarning: Glyph 48660 (\\N{HANGUL SYLLABLE BEUL}) missing from font(s) DejaVu Sans.\n",
      "  fig.canvas.print_figure(bytes_io, **kw)\n",
      "/Users/pjh_air/miniconda3/envs/bearing_env/lib/python3.10/site-packages/IPython/core/pylabtools.py:170: UserWarning: Glyph 54844 (\\N{HANGUL SYLLABLE HON}) missing from font(s) DejaVu Sans.\n",
      "  fig.canvas.print_figure(bytes_io, **kw)\n",
      "/Users/pjh_air/miniconda3/envs/bearing_env/lib/python3.10/site-packages/IPython/core/pylabtools.py:170: UserWarning: Glyph 46041 (\\N{HANGUL SYLLABLE DONG}) missing from font(s) DejaVu Sans.\n",
      "  fig.canvas.print_figure(bytes_io, **kw)\n",
      "/Users/pjh_air/miniconda3/envs/bearing_env/lib/python3.10/site-packages/IPython/core/pylabtools.py:170: UserWarning: Glyph 54665 (\\N{HANGUL SYLLABLE HAENG}) missing from font(s) DejaVu Sans.\n",
      "  fig.canvas.print_figure(bytes_io, **kw)\n",
      "/Users/pjh_air/miniconda3/envs/bearing_env/lib/python3.10/site-packages/IPython/core/pylabtools.py:170: UserWarning: Glyph 47148 (\\N{HANGUL SYLLABLE RYEOL}) missing from font(s) DejaVu Sans.\n",
      "  fig.canvas.print_figure(bytes_io, **kw)\n",
      "/Users/pjh_air/miniconda3/envs/bearing_env/lib/python3.10/site-packages/IPython/core/pylabtools.py:170: UserWarning: Glyph 50696 (\\N{HANGUL SYLLABLE YE}) missing from font(s) DejaVu Sans.\n",
      "  fig.canvas.print_figure(bytes_io, **kw)\n",
      "/Users/pjh_air/miniconda3/envs/bearing_env/lib/python3.10/site-packages/IPython/core/pylabtools.py:170: UserWarning: Glyph 52769 (\\N{HANGUL SYLLABLE CEUG}) missing from font(s) DejaVu Sans.\n",
      "  fig.canvas.print_figure(bytes_io, **kw)\n"
     ]
    },
    {
     "data": {
      "image/png": "[encoded data removed]",
      "text/plain": [
       "<Figure size 800x600 with 2 Axes>"
      ]
     },
     "metadata": {},
     "output_type": "display_data"
    },
    {
     "name": "stdout",
     "output_type": "stream",
     "text": [
      "------------------------------\n",
      "\n",
      "--- Stage 2 TL (ResNet) 모델 테스트 세트 평가 ---\n",
      "\u001b[1m41/41\u001b[0m \u001b[32m━━━━━━━━━━━━━━━━━━━━\u001b[0m\u001b[37m\u001b[0m \u001b[1m9s\u001b[0m 214ms/step - accuracy: 0.9865 - loss: 0.0503\n",
      "Stage 2 TL (ResNet) Test Loss: 0.0451, Test Accuracy: 0.9884\n",
      "\u001b[1m41/41\u001b[0m \u001b[32m━━━━━━━━━━━━━━━━━━━━\u001b[0m\u001b[37m\u001b[0m \u001b[1m14s\u001b[0m 268ms/step\n",
      "\n",
      "--- Stage 2 TL (ResNet) 분류 리포트 ---\n",
      "                  precision    recall  f1-score   support\n",
      "\n",
      "Inner_Race_Fault       0.98      0.99      0.98       432\n",
      "  Normal_Healthy       0.99      0.99      0.99       432\n",
      "Outer_Race_Fault       1.00      0.99      1.00       432\n",
      "\n",
      "        accuracy                           0.99      1296\n",
      "       macro avg       0.99      0.99      0.99      1296\n",
      "    weighted avg       0.99      0.99      0.99      1296\n",
      "\n",
      "\n",
      "--- Stage 2 TL (ResNet) 혼동 행렬 ---\n"
     ]
    },
    {
     "name": "stderr",
     "output_type": "stream",
     "text": [
      "/Users/pjh_air/miniconda3/envs/bearing_env/lib/python3.10/site-packages/IPython/core/pylabtools.py:170: UserWarning: Glyph 49892 (\\N{HANGUL SYLLABLE SIL}) missing from font(s) DejaVu Sans.\n",
      "  fig.canvas.print_figure(bytes_io, **kw)\n",
      "/Users/pjh_air/miniconda3/envs/bearing_env/lib/python3.10/site-packages/IPython/core/pylabtools.py:170: UserWarning: Glyph 51228 (\\N{HANGUL SYLLABLE JE}) missing from font(s) DejaVu Sans.\n",
      "  fig.canvas.print_figure(bytes_io, **kw)\n",
      "/Users/pjh_air/miniconda3/envs/bearing_env/lib/python3.10/site-packages/IPython/core/pylabtools.py:170: UserWarning: Glyph 47112 (\\N{HANGUL SYLLABLE RE}) missing from font(s) DejaVu Sans.\n",
      "  fig.canvas.print_figure(bytes_io, **kw)\n",
      "/Users/pjh_air/miniconda3/envs/bearing_env/lib/python3.10/site-packages/IPython/core/pylabtools.py:170: UserWarning: Glyph 51060 (\\N{HANGUL SYLLABLE I}) missing from font(s) DejaVu Sans.\n",
      "  fig.canvas.print_figure(bytes_io, **kw)\n",
      "/Users/pjh_air/miniconda3/envs/bearing_env/lib/python3.10/site-packages/IPython/core/pylabtools.py:170: UserWarning: Glyph 48660 (\\N{HANGUL SYLLABLE BEUL}) missing from font(s) DejaVu Sans.\n",
      "  fig.canvas.print_figure(bytes_io, **kw)\n",
      "/Users/pjh_air/miniconda3/envs/bearing_env/lib/python3.10/site-packages/IPython/core/pylabtools.py:170: UserWarning: Glyph 54844 (\\N{HANGUL SYLLABLE HON}) missing from font(s) DejaVu Sans.\n",
      "  fig.canvas.print_figure(bytes_io, **kw)\n",
      "/Users/pjh_air/miniconda3/envs/bearing_env/lib/python3.10/site-packages/IPython/core/pylabtools.py:170: UserWarning: Glyph 46041 (\\N{HANGUL SYLLABLE DONG}) missing from font(s) DejaVu Sans.\n",
      "  fig.canvas.print_figure(bytes_io, **kw)\n",
      "/Users/pjh_air/miniconda3/envs/bearing_env/lib/python3.10/site-packages/IPython/core/pylabtools.py:170: UserWarning: Glyph 54665 (\\N{HANGUL SYLLABLE HAENG}) missing from font(s) DejaVu Sans.\n",
      "  fig.canvas.print_figure(bytes_io, **kw)\n",
      "/Users/pjh_air/miniconda3/envs/bearing_env/lib/python3.10/site-packages/IPython/core/pylabtools.py:170: UserWarning: Glyph 47148 (\\N{HANGUL SYLLABLE RYEOL}) missing from font(s) DejaVu Sans.\n",
      "  fig.canvas.print_figure(bytes_io, **kw)\n",
      "/Users/pjh_air/miniconda3/envs/bearing_env/lib/python3.10/site-packages/IPython/core/pylabtools.py:170: UserWarning: Glyph 50696 (\\N{HANGUL SYLLABLE YE}) missing from font(s) DejaVu Sans.\n",
      "  fig.canvas.print_figure(bytes_io, **kw)\n",
      "/Users/pjh_air/miniconda3/envs/bearing_env/lib/python3.10/site-packages/IPython/core/pylabtools.py:170: UserWarning: Glyph 52769 (\\N{HANGUL SYLLABLE CEUG}) missing from font(s) DejaVu Sans.\n",
      "  fig.canvas.print_figure(bytes_io, **kw)\n"
     ]
    },
    {
     "data": {
      "image/png": "[encoded data removed]",
      "text/plain": [
       "<Figure size 800x600 with 2 Axes>"
      ]
     },
     "metadata": {},
     "output_type": "display_data"
    },
    {
     "name": "stdout",
     "output_type": "stream",
     "text": [
      "------------------------------\n",
      "\n",
      "모든 전이 학습 모델 학습 및 평가가 완료되었습니다. 🎉\n",
      "------------------------------\n"
     ]
    }
   ],
   "source": [
    "import tensorflow as tf\n",
    "from tensorflow.keras.models import Model\n",
    "from tensorflow.keras.layers import Input, Conv2D, MaxPooling2D, Flatten, Dense, LSTM, Reshape, Dropout\n",
    "from tensorflow.keras.optimizers import Adam\n",
    "from tensorflow.keras.callbacks import EarlyStopping, ReduceLROnPlateau, ModelCheckpoint\n",
    "import numpy as np\n",
    "from sklearn.utils import class_weight\n",
    "from sklearn.metrics import classification_report, confusion_matrix\n",
    "import matplotlib.pyplot as plt\n",
    "import seaborn as sns\n",
    "import os\n",
    "\n",
    "# ResNet50V2를 사용하기 위해 Import\n",
    "from tensorflow.keras.applications import ResNet50V2 # 모델 변경\n",
    "\n",
    "# --- 1. 설정 (Configuration) ---\n",
    "IMAGE_WIDTH = 256\n",
    "IMAGE_HEIGHT = 128\n",
    "IMAGE_CHANNELS = 1 # 흑백 스펙트로그램 이미지이므로 1\n",
    "BATCH_SIZE = 32\n",
    "EPOCHS_STAGE1 = 50 # Stage 1 학습 에포크 (조기 종료 적용)\n",
    "EPOCHS_STAGE2 = 100 # Stage 2 학습 에포크 (조기 종료 적용)\n",
    "LEARNING_RATE = 1e-4\n",
    "\n",
    "# --- 윈도우 로컬 환경을 위한 경로 설정 ---\n",
    "# 사용자 환경에 맞춰 이 경로를 반드시 수정해주세요!\n",
    "data_root_dir = '/Users/pjh_air/Documents/SJ_simhwa/final/1/Split_Spectrograms_Data'\n",
    "\n",
    "train_data_dir = os.path.join(data_root_dir, 'train')\n",
    "test_data_dir = os.path.join(data_root_dir, 'test')\n",
    "\n",
    "# -----------------------------------------------------------------------------\n",
    "\n",
    "# --- 2. GPU 사용 가능 여부 확인 (윈도우 로컬 환경) ---\n",
    "print(\"--- GPU 사용 가능 여부 확인 ---\")\n",
    "try:\n",
    "    gpus = tf.config.experimental.list_physical_devices('GPU')\n",
    "    if gpus:\n",
    "        for gpu in gpus:\n",
    "            tf.config.experimental.set_memory_growth(gpu, True)\n",
    "        print(f\"사용 가능한 GPU: {len(gpus)}개\")\n",
    "    else:\n",
    "        print(\"GPU를 찾을 수 없습니다. CPU를 사용합니다.\")\n",
    "    print(f\"TensorFlow 버전: {tf.__version__}\")\n",
    "    print(f\"TensorFlow가 GPU를 사용하는지 여부: {bool(tf.config.list_physical_devices('GPU'))}\")\n",
    "except Exception as e:\n",
    "    print(f\"GPU 확인 중 오류 발생: {e}\")\n",
    "    print(\"GPU 설정에 문제가 있을 수 있습니다. CUDA Toolkit 및 cuDNN 설치를 확인해주세요.\")\n",
    "print(\"-\" * 30)\n",
    "\n",
    "# -----------------------------------------------------------------------------\n",
    "\n",
    "print(\"\\n--- 3. 데이터 로드 및 전처리 시작 ---\")\n",
    "from tensorflow.keras.preprocessing.image import ImageDataGenerator\n",
    "\n",
    "# Stage 1 데이터 제너레이터 (Normal / Abnormal 이진 분류)\n",
    "train_datagen_stage1 = ImageDataGenerator(\n",
    "    rescale=1./255, rotation_range=10, width_shift_range=0.1,\n",
    "    height_shift_range=0.1, shear_range=0.1, zoom_range=0.1,\n",
    "    horizontal_flip=True, fill_mode='nearest'\n",
    ")\n",
    "test_datagen_stage1 = ImageDataGenerator(rescale=1./255)\n",
    "\n",
    "train_generator_stage1 = train_datagen_stage1.flow_from_directory(\n",
    "    os.path.join(train_data_dir, 'stage1'),\n",
    "    target_size=(IMAGE_HEIGHT, IMAGE_WIDTH),\n",
    "    color_mode='grayscale', # 흑백 이미지 로드\n",
    "    batch_size=BATCH_SIZE,\n",
    "    class_mode='binary',\n",
    "    seed=42\n",
    ")\n",
    "\n",
    "test_generator_stage1 = test_datagen_stage1.flow_from_directory(\n",
    "    os.path.join(test_data_dir, 'stage1'),\n",
    "    target_size=(IMAGE_HEIGHT, IMAGE_WIDTH),\n",
    "    color_mode='grayscale', # 흑백 이미지 로드\n",
    "    batch_size=BATCH_SIZE,\n",
    "    class_mode='binary',\n",
    "    shuffle=False, # 평가를 위해 shuffle=False\n",
    "    seed=42\n",
    ")\n",
    "\n",
    "# Stage 2 데이터 제너레이터 (세부 고장 유형 분류)\n",
    "train_datagen_stage2 = ImageDataGenerator(\n",
    "    rescale=1./255, rotation_range=10, width_shift_range=0.1,\n",
    "    height_shift_range=0.1, shear_range=0.1, zoom_range=0.1,\n",
    "    horizontal_flip=True, fill_mode='nearest'\n",
    ")\n",
    "test_datagen_stage2 = ImageDataGenerator(rescale=1./255)\n",
    "\n",
    "train_generator_stage2 = train_datagen_stage2.flow_from_directory(\n",
    "    os.path.join(train_data_dir, 'stage2'),\n",
    "    target_size=(IMAGE_HEIGHT, IMAGE_WIDTH),\n",
    "    color_mode='grayscale', # 흑백 이미지 로드\n",
    "    batch_size=BATCH_SIZE,\n",
    "    class_mode='categorical',\n",
    "    seed=42\n",
    ")\n",
    "\n",
    "test_generator_stage2 = test_datagen_stage2.flow_from_directory(\n",
    "    os.path.join(test_data_dir, 'stage2'),\n",
    "    target_size=(IMAGE_HEIGHT, IMAGE_WIDTH),\n",
    "    color_mode='grayscale', # 흑백 이미지 로드\n",
    "    batch_size=BATCH_SIZE,\n",
    "    class_mode='categorical',\n",
    "    shuffle=False, # 평가를 위해 shuffle=False\n",
    "    seed=42\n",
    ")\n",
    "\n",
    "print(\"\\n--- 데이터 로드 및 전처리 완료 ---\")\n",
    "print(\"-\" * 30)\n",
    "\n",
    "# -----------------------------------------------------------------------------\n",
    "\n",
    "print(\"\\n--- 4. 전이 학습 모델 정의 및 컴파일 시작 ---\")\n",
    "\n",
    "def build_transfer_learning_cnn_lstm_model(input_shape, num_classes, is_binary_classification=False):\n",
    "    \"\"\"\n",
    "    전이 학습을 적용한 CNN-LSTM 하이브리드 모델을 정의합니다.\n",
    "    (ResNet50V2 사용)\n",
    "    흑백 이미지(1채널)를 3채널로 복제하여 ResNet50V2의 입력으로 연결합니다.\n",
    "    \"\"\"\n",
    "    input_tensor = Input(shape=input_shape)\n",
    "\n",
    "    # 흑백 이미지를 3채널로 복제\n",
    "    x = tf.keras.layers.Conv2D(3, (1, 1), padding='same', name='grayscale_to_rgb_conversion')(input_tensor)\n",
    "\n",
    "    # ResNet50V2 모델 로드 (EfficientNetB0 대신 ResNet50V2 사용)\n",
    "    base_model = ResNet50V2(\n",
    "        include_top=False, # 분류 헤드(Dense 레이어)를 제외하고 컨볼루션 베이스만 로드\n",
    "        weights='imagenet', # ImageNet 데이터셋으로 사전 학습된 가중치 사용\n",
    "    )\n",
    "\n",
    "    # base_model의 입력으로 변환된 `x`를 연결\n",
    "    x = base_model(x) \n",
    "\n",
    "    # 사전 학습된 모델의 가중치를 고정 (특징 추출기로만 사용)\n",
    "    base_model.trainable = False\n",
    "\n",
    "    # LSTM 입력을 위한 Flatten 및 Reshape\n",
    "    flattened_features = Flatten()(x)\n",
    "    reshaped_features = Reshape((1, flattened_features.shape[1]))(flattened_features)\n",
    "\n",
    "    # LSTM 부분\n",
    "    x = LSTM(128, activation='relu')(reshaped_features) \n",
    "    x = Dropout(0.5)(x)\n",
    "\n",
    "    # 새로운 분류기 레이어 추가\n",
    "    if is_binary_classification:\n",
    "        output_tensor = Dense(1, activation='sigmoid', name='output_binary')(x)\n",
    "    else:\n",
    "        output_tensor = Dense(num_classes, activation='softmax', name='output_categorical')(x)\n",
    "\n",
    "    model = Model(inputs=input_tensor, outputs=output_tensor)\n",
    "    return model\n",
    "\n",
    "# --- Stage 1 전이 학습 모델 정의 및 컴파일 ---\n",
    "print(\"\\n--- Stage 1 전이 학습 모델 정의 및 컴파일 ---\")\n",
    "stage1_transfer_model = build_transfer_learning_cnn_lstm_model(\n",
    "    input_shape=(IMAGE_HEIGHT, IMAGE_WIDTH, IMAGE_CHANNELS), \n",
    "    num_classes=train_generator_stage1.num_classes, \n",
    "    is_binary_classification=True\n",
    ")\n",
    "stage1_transfer_model.compile(optimizer=Adam(learning_rate=LEARNING_RATE),\n",
    "                              loss='binary_crossentropy',\n",
    "                              metrics=['accuracy'])\n",
    "stage1_transfer_model.summary()\n",
    "\n",
    "# --- Stage 2 전이 학습 모델 정의 및 컴파일 ---\n",
    "print(\"\\n--- Stage 2 전이 학습 모델 정의 및 컴파일 ---\")\n",
    "stage2_transfer_model = build_transfer_learning_cnn_lstm_model(\n",
    "    input_shape=(IMAGE_HEIGHT, IMAGE_WIDTH, IMAGE_CHANNELS), \n",
    "    num_classes=train_generator_stage2.num_classes, \n",
    "    is_binary_classification=False\n",
    ")\n",
    "stage2_transfer_model.compile(optimizer=Adam(learning_rate=LEARNING_RATE),\n",
    "                              loss='categorical_crossentropy',\n",
    "                              metrics=['accuracy'])\n",
    "stage2_transfer_model.summary()\n",
    "\n",
    "print(\"\\n--- 전이 학습 모델 정의 및 컴파일 완료 ---\")\n",
    "print(\"-\" * 30)\n",
    "\n",
    "# -----------------------------------------------------------------------------\n",
    "\n",
    "print(\"\\n--- 5. 모델 학습 시작 ---\")\n",
    "\n",
    "# --- 클래스 가중치 계산 (Stage 1) ---\n",
    "train_labels_stage1 = train_generator_stage1.labels\n",
    "class_weights_stage1 = class_weight.compute_class_weight(\n",
    "    class_weight='balanced',\n",
    "    classes=np.unique(train_labels_stage1),\n",
    "    y=train_labels_stage1\n",
    ")\n",
    "class_weights_dict_stage1 = {i: weight for i, weight in enumerate(class_weights_stage1)}\n",
    "print(\"\\n--- Stage 1 클래스 가중치 ---\")\n",
    "print(class_weights_dict_stage1)\n",
    "\n",
    "# --- 클래스 가중치 계산 (Stage 2) ---\n",
    "train_labels_stage2 = train_generator_stage2.labels\n",
    "class_weights_stage2 = class_weight.compute_class_weight(\n",
    "    class_weight='balanced',\n",
    "    classes=np.unique(train_labels_stage2),\n",
    "    y=train_labels_stage2\n",
    ")\n",
    "class_weights_dict_stage2 = {i: weight for i, weight in enumerate(class_weights_stage2)}\n",
    "print(\"\\n--- Stage 2 클래스 가중치 ---\")\n",
    "print(class_weights_dict_stage2)\n",
    "\n",
    "\n",
    "# --- Stage 1 전이 학습 모델 학습 ---\n",
    "print(\"\\n--- Stage 1 전이 학습 모델 학습 시작 ---\")\n",
    "checkpoint_filepath_stage1_tl = 'stage1_tl_best_model_resnet.h5' # 파일명 변경 (모델 변경 반영)\n",
    "model_checkpoint_callback_stage1_tl = ModelCheckpoint(\n",
    "    filepath=checkpoint_filepath_stage1_tl,\n",
    "    save_best_only=True,\n",
    "    monitor='val_accuracy',\n",
    "    mode='max',\n",
    "    verbose=1\n",
    ")\n",
    "\n",
    "early_stopping_callback_stage1_tl = EarlyStopping(\n",
    "    monitor='val_loss',\n",
    "    patience=10, \n",
    "    restore_best_weights=True,\n",
    "    verbose=1\n",
    ")\n",
    "\n",
    "reduce_lr_callback_stage1_tl = ReduceLROnPlateau(\n",
    "    monitor='val_loss',\n",
    "    factor=0.5,\n",
    "    patience=5,\n",
    "    min_lr=1e-6,\n",
    "    verbose=1\n",
    ")\n",
    "\n",
    "history_stage1_tl = stage1_transfer_model.fit(\n",
    "    train_generator_stage1,\n",
    "    epochs=EPOCHS_STAGE1,\n",
    "    validation_data=test_generator_stage1,\n",
    "    class_weight=class_weights_dict_stage1,\n",
    "    callbacks=[model_checkpoint_callback_stage1_tl, early_stopping_callback_stage1_tl, reduce_lr_callback_stage1_tl]\n",
    ")\n",
    "\n",
    "print(\"\\n--- Stage 1 전이 학습 모델 학습 완료 ---\")\n",
    "stage1_transfer_model.load_weights(checkpoint_filepath_stage1_tl) \n",
    "\n",
    "# -----------------------------------------------------------------------------\n",
    "\n",
    "# --- Stage 2 전이 학습 모델 학습 ---\n",
    "print(\"\\n--- Stage 2 전이 학습 모델 학습 시작 ---\")\n",
    "checkpoint_filepath_stage2_tl = 'stage2_tl_best_model_resnet.h5' # 파일명 변경 (모델 변경 반영)\n",
    "model_checkpoint_callback_stage2_tl = ModelCheckpoint(\n",
    "    filepath=checkpoint_filepath_stage2_tl,\n",
    "    save_best_only=True,\n",
    "    monitor='val_accuracy',\n",
    "    mode='max',\n",
    "    verbose=1\n",
    ")\n",
    "\n",
    "early_stopping_callback_stage2_tl = EarlyStopping(\n",
    "    monitor='val_loss',\n",
    "    patience=15, \n",
    "    restore_best_weights=True,\n",
    "    verbose=1\n",
    ")\n",
    "\n",
    "reduce_lr_callback_stage2_tl = ReduceLROnPlateau(\n",
    "    monitor='val_loss',\n",
    "    factor=0.5, \n",
    "    patience=7, \n",
    "    min_lr=1e-7,\n",
    "    verbose=1\n",
    ")\n",
    "\n",
    "history_stage2_tl = stage2_transfer_model.fit(\n",
    "    train_generator_stage2,\n",
    "    epochs=EPOCHS_STAGE2,\n",
    "    validation_data=test_generator_stage2,\n",
    "    class_weight=class_weights_dict_stage2,\n",
    "    callbacks=[model_checkpoint_callback_stage2_tl, early_stopping_callback_stage2_tl, reduce_lr_callback_stage2_tl]\n",
    ")\n",
    "\n",
    "print(\"\\n--- Stage 2 전이 학습 모델 학습 완료 ---\")\n",
    "stage2_transfer_model.load_weights(checkpoint_filepath_stage2_tl) \n",
    "print(\"-\" * 30)\n",
    "\n",
    "# -----------------------------------------------------------------------------\n",
    "\n",
    "print(\"\\n--- 6. 모델 평가 시작 ---\")\n",
    "\n",
    "# --- 평가 지표 함수 정의 (재사용을 위해) ---\n",
    "def evaluate_and_report(model, generator, title, is_binary=False):\n",
    "    \"\"\"모델을 평가하고 분류 리포트 및 혼동 행렬을 출력합니다.\"\"\"\n",
    "    print(f\"\\n--- {title} 모델 테스트 세트 평가 ---\")\n",
    "    loss, accuracy = model.evaluate(generator)\n",
    "    print(f\"{title} Test Loss: {loss:.4f}, Test Accuracy: {accuracy:.4f}\")\n",
    "\n",
    "    # 예측 수행\n",
    "    y_pred_probs = model.predict(generator)\n",
    "    \n",
    "    if is_binary:\n",
    "        y_pred = (y_pred_probs > 0.5).astype(int)\n",
    "    else:\n",
    "        y_pred = np.argmax(y_pred_probs, axis=1)\n",
    "\n",
    "    y_true = generator.classes\n",
    "    \n",
    "    # 클래스 이름 매핑\n",
    "    if generator.class_indices:\n",
    "        class_names = [k for k, v in sorted(generator.class_indices.items(), key=lambda item: item[1])]\n",
    "    else:\n",
    "        class_names = [str(i) for i in range(model.output_shape[-1])]\n",
    "\n",
    "    print(f\"\\n--- {title} 분류 리포트 ---\")\n",
    "    print(classification_report(y_true, y_pred, target_names=class_names))\n",
    "\n",
    "    print(f\"\\n--- {title} 혼동 행렬 ---\")\n",
    "    cm = confusion_matrix(y_true, y_pred)\n",
    "    plt.figure(figsize=(8, 6))\n",
    "    sns.heatmap(cm, annot=True, fmt='d', cmap='Blues', xticklabels=class_names, yticklabels=class_names)\n",
    "    plt.xlabel('예측 레이블')\n",
    "    plt.ylabel('실제 레이블')\n",
    "    plt.title(f'{title} 혼동 행렬')\n",
    "    plt.show()\n",
    "    print(\"-\" * 30)\n",
    "\n",
    "\n",
    "# Stage 1 평가\n",
    "evaluate_and_report(stage1_transfer_model, test_generator_stage1, \"Stage 1 TL (ResNet)\", is_binary=True)\n",
    "\n",
    "# Stage 2 평가\n",
    "evaluate_and_report(stage2_transfer_model, test_generator_stage2, \"Stage 2 TL (ResNet)\")\n",
    "\n",
    "print(\"\\n모든 전이 학습 모델 학습 및 평가가 완료되었습니다. 🎉\")\n",
    "print(\"-\" * 30)\n"
   ]
  },
  {
   "cell_type": "code",
   "execution_count": null,
   "id": "a2667b44",
   "metadata": {},
   "outputs": [],
   "source": []
  }
 ],
 "metadata": {
  "kernelspec": {
   "display_name": "bearing_env",
   "language": "python",
   "name": "python3"
  },
  "language_info": {
   "codemirror_mode": {
    "name": "ipython",
    "version": 3
   },
   "file_extension": ".py",
   "mimetype": "text/x-python",
   "name": "python",
   "nbconvert_exporter": "python",
   "pygments_lexer": "ipython3",
   "version": "3.10.18"
  }
 },
 "nbformat": 4,
 "nbformat_minor": 5
}
