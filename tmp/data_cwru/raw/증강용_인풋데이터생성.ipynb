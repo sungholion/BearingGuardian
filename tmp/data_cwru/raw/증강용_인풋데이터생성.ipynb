{
 "cells": [
  {
   "cell_type": "code",
   "execution_count": 2,
   "id": "6d6873ca",
   "metadata": {},
   "outputs": [
    {
     "name": "stdout",
     "output_type": "stream",
     "text": [
      "Saved: ./wav_output\\B007_1_123_snr20.wav\n",
      "Saved: ./wav_output\\B007_1_123_snr10.wav\n",
      "Saved: ./wav_output\\B007_1_123_snr0.wav\n",
      "Saved: ./wav_output\\B014_1_190_snr20.wav\n",
      "Saved: ./wav_output\\B014_1_190_snr10.wav\n",
      "Saved: ./wav_output\\B014_1_190_snr0.wav\n",
      "Saved: ./wav_output\\B021_1_227_snr20.wav\n",
      "Saved: ./wav_output\\B021_1_227_snr10.wav\n",
      "Saved: ./wav_output\\B021_1_227_snr0.wav\n",
      "Saved: ./wav_output\\IR007_1_110_snr20.wav\n",
      "Saved: ./wav_output\\IR007_1_110_snr10.wav\n",
      "Saved: ./wav_output\\IR007_1_110_snr0.wav\n",
      "Saved: ./wav_output\\IR014_1_175_snr20.wav\n",
      "Saved: ./wav_output\\IR014_1_175_snr10.wav\n",
      "Saved: ./wav_output\\IR014_1_175_snr0.wav\n",
      "Saved: ./wav_output\\IR021_1_214_snr20.wav\n",
      "Saved: ./wav_output\\IR021_1_214_snr10.wav\n",
      "Saved: ./wav_output\\IR021_1_214_snr0.wav\n",
      "Saved: ./wav_output\\OR007_6_1_136_snr20.wav\n",
      "Saved: ./wav_output\\OR007_6_1_136_snr10.wav\n",
      "Saved: ./wav_output\\OR007_6_1_136_snr0.wav\n",
      "Saved: ./wav_output\\OR014_6_1_202_snr20.wav\n",
      "Saved: ./wav_output\\OR014_6_1_202_snr10.wav\n",
      "Saved: ./wav_output\\OR014_6_1_202_snr0.wav\n",
      "Saved: ./wav_output\\OR021_6_1_239_snr20.wav\n",
      "Saved: ./wav_output\\OR021_6_1_239_snr10.wav\n",
      "Saved: ./wav_output\\OR021_6_1_239_snr0.wav\n",
      "Saved: ./wav_output\\Time_Normal_1_098_snr20.wav\n",
      "Saved: ./wav_output\\Time_Normal_1_098_snr10.wav\n",
      "Saved: ./wav_output\\Time_Normal_1_098_snr0.wav\n"
     ]
    }
   ],
   "source": [
    "import os\n",
    "import numpy as np\n",
    "from scipy.io import loadmat, wavfile\n",
    "\n",
    "# --- 노이즈 추가 함수 ---\n",
    "def add_gaussian_noise(signal, snr_db):\n",
    "    signal_power = np.mean(signal ** 2)\n",
    "    snr_linear = 10 ** (snr_db / 10)\n",
    "    noise_power = signal_power / snr_linear\n",
    "    noise = np.random.normal(0, np.sqrt(noise_power), size=signal.shape)\n",
    "    return signal + noise\n",
    "\n",
    "# --- mat → wav 변환 + 노이즈 증강 ---\n",
    "def mat_to_wav_with_noise(mat_path, output_dir, snr_list=[20, 10, 0], sample_rate=12000):\n",
    "    # mat 로드\n",
    "    mat = loadmat(mat_path)\n",
    "    key = [k for k in mat.keys() if \"DE_time\" in k][0]\n",
    "    signal = mat[key].squeeze()\n",
    "\n",
    "    # 신호 정규화 (-1 ~ 1)\n",
    "    signal = signal / np.max(np.abs(signal))\n",
    "\n",
    "    base_name = os.path.splitext(os.path.basename(mat_path))[0]\n",
    "\n",
    "    for snr in snr_list:\n",
    "        noisy_signal = add_gaussian_noise(signal, snr)\n",
    "        # 다시 -1~1 정규화 후 int16 변환\n",
    "        noisy_signal = noisy_signal / np.max(np.abs(noisy_signal))\n",
    "        noisy_signal_int16 = np.int16(noisy_signal * 32767)\n",
    "        \n",
    "        output_path = os.path.join(output_dir, f\"{base_name}_snr{snr}.wav\")\n",
    "        wavfile.write(output_path, sample_rate, noisy_signal_int16)\n",
    "        print(f\"Saved: {output_path}\")\n",
    "\n",
    "# --- 사용 예시 ---\n",
    "if __name__ == \"__main__\":\n",
    "    mat_dir = r\"C:\\Users\\jh\\Desktop\\py\\bear\\data_cwru\\raw\"   # 여기에 .mat 파일들 넣어둬\n",
    "    output_dir = \"./wav_output\"\n",
    "    os.makedirs(output_dir, exist_ok=True)\n",
    "\n",
    "    mat_files = [f for f in os.listdir(mat_dir) if f.endswith(\".mat\")]\n",
    "\n",
    "    for mat_file in mat_files:\n",
    "        mat_path = os.path.join(mat_dir, mat_file)\n",
    "        mat_to_wav_with_noise(mat_path, output_dir)\n"
   ]
  },
  {
   "cell_type": "code",
   "execution_count": null,
   "id": "57ddad79",
   "metadata": {},
   "outputs": [],
   "source": []
  }
 ],
 "metadata": {
  "kernelspec": {
   "display_name": "0527",
   "language": "python",
   "name": "python3"
  },
  "language_info": {
   "codemirror_mode": {
    "name": "ipython",
    "version": 3
   },
   "file_extension": ".py",
   "mimetype": "text/x-python",
   "name": "python",
   "nbconvert_exporter": "python",
   "pygments_lexer": "ipython3",
   "version": "3.10.16"
  }
 },
 "nbformat": 4,
 "nbformat_minor": 5
}
